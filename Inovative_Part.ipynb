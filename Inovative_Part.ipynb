{
  "nbformat": 4,
  "nbformat_minor": 0,
  "metadata": {
    "accelerator": "GPU",
    "colab": {
      "name": "Advanced ML Final Project - Inovative Part.ipynb",
      "provenance": [],
      "collapsed_sections": []
    },
    "kernelspec": {
      "display_name": "Python 3",
      "name": "python3"
    },
    "language_info": {
      "name": "python"
    }
  },
  "cells": [
    {
      "cell_type": "markdown",
      "metadata": {
        "id": "yB_iKiab3RQc"
      },
      "source": [
        "\n",
        "# <center> AttenSense - Inovative part\n",
        "## <center> Shachar Reuvenny 200565679\n",
        "## <center> Gal Blecher 201566304"
      ]
    },
    {
      "cell_type": "markdown",
      "metadata": {
        "id": "F1z_zagu5idC"
      },
      "source": [
        "Instruction for running the code:\n",
        "\n",
        "change the pathes below and run the notebook.\n",
        "\n",
        "warining: running time is about 10 hours."
      ]
    },
    {
      "cell_type": "code",
      "metadata": {
        "colab": {
          "base_uri": "https://localhost:8080/"
        },
        "id": "2K80BwoygDEM",
        "outputId": "3612e878-7123-4874-ff56-ac14c5808414"
      },
      "source": [
        "from google.colab import drive\n",
        "drive.mount('/content/drive')"
      ],
      "execution_count": 1,
      "outputs": [
        {
          "output_type": "stream",
          "text": [
            "Mounted at /content/drive\n"
          ],
          "name": "stdout"
        }
      ]
    },
    {
      "cell_type": "code",
      "metadata": {
        "id": "_PLUY73Q50Lz"
      },
      "source": [
        "data_path = '/content/drive/MyDrive/Advanced ML final project/PAMAP2_Dataset/Protocol'\n",
        "spectogram_path = \"/content/drive/MyDrive/Advanced ML final project\"\n",
        "model_path = '/content/drive/MyDrive/Advanced ML final project'"
      ],
      "execution_count": 50,
      "outputs": []
    },
    {
      "cell_type": "markdown",
      "metadata": {
        "id": "txTxnRvk4BLf"
      },
      "source": [
        "### Imports"
      ]
    },
    {
      "cell_type": "code",
      "metadata": {
        "id": "57CUAXpwf--E"
      },
      "source": [
        "import numpy as np\n",
        "import pandas as pd\n",
        "import matplotlib.pyplot as plt\n",
        "import os\n",
        "from torch.utils.data import Dataset, DataLoader, TensorDataset, RandomSampler, SequentialSampler, random_split\n",
        "import torch\n",
        "from sklearn.metrics import confusion_matrix\n",
        "import torch.nn as nn\n",
        "import torch.nn.functional as F\n",
        "import torch.optim as optim\n",
        "import pickle\n",
        "import timeit\n",
        "import seaborn as sn"
      ],
      "execution_count": 3,
      "outputs": []
    },
    {
      "cell_type": "markdown",
      "metadata": {
        "id": "yMRcDK495BdY"
      },
      "source": [
        "###Preprocess"
      ]
    },
    {
      "cell_type": "code",
      "metadata": {
        "id": "qWW3qiLeT_Lq"
      },
      "source": [
        "device = torch.device(\"cuda:0\" if torch.cuda.is_available() else \"cpu\")"
      ],
      "execution_count": 4,
      "outputs": []
    },
    {
      "cell_type": "code",
      "metadata": {
        "id": "kcUMY3p5gF8p"
      },
      "source": [
        "# get the data of the subject and returns df with the relevant information\n",
        "def prep_data(path, subgect):\n",
        "  data = pd.read_csv(path, sep=' ', header=None)\n",
        "  data.columns = pd.RangeIndex(1, len(data.columns) + 1) \n",
        "  data.drop(3, axis='columns', inplace=True)\n",
        "  data = data.dropna()\n",
        "  data = data[[1,2,22,23,24,28,29,30]]\n",
        "  cols = {1: 'time_step', 2: 'activity_id', 22: 'acc_x', 23: 'acc_y', 24: 'acc_z', 28: 'gyro_x', 29: 'gyro_y', 30: 'gyro_z'}\n",
        "  data = data.rename(columns=cols)\n",
        "  # calculating norm\n",
        "  data['acc_norm'] = np.sqrt(data['acc_x'] ** 2 + data['acc_y'] ** 2 + data['acc_z'] ** 2)\n",
        "  data['gyro_norm'] = np.sqrt(data['gyro_x'] ** 2 + data['gyro_y'] ** 2 + data['gyro_z'] ** 2)\n",
        "  data['User'] = f'{subject}'\n",
        "  return data"
      ],
      "execution_count": 5,
      "outputs": []
    },
    {
      "cell_type": "code",
      "metadata": {
        "id": "la9Jcs0sBBDk"
      },
      "source": [
        "# Perform preprocess for different subjects\n",
        "subjects = ['101', '102', '105', '106', '107', '108']\n",
        "path = data_path\n",
        "data_list = []\n",
        "for subject in subjects:\n",
        "  data_list.append(prep_data(path + '/subject' + subject + '.dat', subject))"
      ],
      "execution_count": 6,
      "outputs": []
    },
    {
      "cell_type": "code",
      "metadata": {
        "id": "6NYdogccuudH"
      },
      "source": [
        "# Combine to one df\n",
        "for d in range(len(data_list)):\n",
        "  if d == 0:\n",
        "    df = data_list[0]\n",
        "  else:\n",
        "    df = pd.concat([df, data_list[d]], axis=0, ignore_index=True)"
      ],
      "execution_count": 7,
      "outputs": []
    },
    {
      "cell_type": "markdown",
      "metadata": {
        "id": "X6mJ9tFp6Qo6"
      },
      "source": [
        "#### Normalization"
      ]
    },
    {
      "cell_type": "code",
      "metadata": {
        "id": "GH5TYuclsasI"
      },
      "source": [
        "def normalize(df, cols): #list of columns\n",
        "  df_t = (df[cols] - df[cols].mean()) / df[cols].std()\n",
        "  df_norm = df.copy()\n",
        "  df_norm[cols] = df_t\n",
        "  \n",
        "  return df_norm"
      ],
      "execution_count": 8,
      "outputs": []
    },
    {
      "cell_type": "code",
      "metadata": {
        "id": "NKLKdDERsqBK"
      },
      "source": [
        "data_norm = normalize(df, ['acc_norm', 'gyro_norm'])"
      ],
      "execution_count": 9,
      "outputs": []
    },
    {
      "cell_type": "markdown",
      "metadata": {
        "id": "_1KDrfDZ6UT8"
      },
      "source": [
        "#### Noise and Augmentation"
      ]
    },
    {
      "cell_type": "code",
      "metadata": {
        "id": "s_JNCcwLs5oY"
      },
      "source": [
        "def add_noise(df,cols, sigma=0.1):\n",
        "  noise = np.random.normal(0, sigma, df[cols].shape)\n",
        "  new_signal = df[cols] + noise\n",
        "  df_noise = df.copy()\n",
        "  df_noise[cols] = new_signal\n",
        "  \n",
        "  return df_noise"
      ],
      "execution_count": 10,
      "outputs": []
    },
    {
      "cell_type": "code",
      "metadata": {
        "id": "xiJ7ZvNltA0q"
      },
      "source": [
        "def augment(df, cols, num_of_inst):\n",
        "  '''\n",
        "    df should be inserted notmalized\n",
        "    num_of_inst = num of instances to create from each instance\n",
        "  '''\n",
        "  aug_df = df.copy()\n",
        "  for i in range(num_of_inst):\n",
        "    np.random.seed(i)\n",
        "    nois_data = add_noise(df, cols)\n",
        "    nois_data['User'] = nois_data['User'] + f'{i}'\n",
        "    aug_df= pd.concat([aug_df, nois_data], axis=0, ignore_index=True)\n",
        "\n",
        "  return aug_df"
      ],
      "execution_count": 11,
      "outputs": []
    },
    {
      "cell_type": "code",
      "metadata": {
        "id": "KipaHkhvtH7k"
      },
      "source": [
        "data_aug = augment(data_norm, ['acc_norm', 'gyro_norm'], 6)"
      ],
      "execution_count": 12,
      "outputs": []
    },
    {
      "cell_type": "markdown",
      "metadata": {
        "id": "hHEIA0bC6sAU"
      },
      "source": [
        "### Spectograms"
      ]
    },
    {
      "cell_type": "code",
      "metadata": {
        "id": "jPCXDYCqu-Ll"
      },
      "source": [
        "initial_data = data_aug\n",
        "unique_actions = np.unique(initial_data['activity_id'])\n",
        "unique_users = np.unique(initial_data['User'])"
      ],
      "execution_count": 13,
      "outputs": []
    },
    {
      "cell_type": "code",
      "metadata": {
        "id": "mPQtTHYT1PTH"
      },
      "source": [
        "dff = pd.DataFrame(columns=['activity','timstep', 'user','acc_spec','gyro_spec'])"
      ],
      "execution_count": 14,
      "outputs": []
    },
    {
      "cell_type": "code",
      "metadata": {
        "colab": {
          "base_uri": "https://localhost:8080/",
          "height": 48
        },
        "id": "727XLM9yIqrs",
        "outputId": "3b0915fe-7807-4964-f6d8-94e96310a32d"
      },
      "source": [
        "dff.head()"
      ],
      "execution_count": 15,
      "outputs": [
        {
          "output_type": "execute_result",
          "data": {
            "text/html": [
              "<div>\n",
              "<style scoped>\n",
              "    .dataframe tbody tr th:only-of-type {\n",
              "        vertical-align: middle;\n",
              "    }\n",
              "\n",
              "    .dataframe tbody tr th {\n",
              "        vertical-align: top;\n",
              "    }\n",
              "\n",
              "    .dataframe thead th {\n",
              "        text-align: right;\n",
              "    }\n",
              "</style>\n",
              "<table border=\"1\" class=\"dataframe\">\n",
              "  <thead>\n",
              "    <tr style=\"text-align: right;\">\n",
              "      <th></th>\n",
              "      <th>activity</th>\n",
              "      <th>timstep</th>\n",
              "      <th>user</th>\n",
              "      <th>acc_spec</th>\n",
              "      <th>gyro_spec</th>\n",
              "    </tr>\n",
              "  </thead>\n",
              "  <tbody>\n",
              "  </tbody>\n",
              "</table>\n",
              "</div>"
            ],
            "text/plain": [
              "Empty DataFrame\n",
              "Columns: [activity, timstep, user, acc_spec, gyro_spec]\n",
              "Index: []"
            ]
          },
          "metadata": {},
          "execution_count": 15
        }
      ]
    },
    {
      "cell_type": "code",
      "metadata": {
        "id": "tlbnb21-vdxs"
      },
      "source": [
        "# data_name = 'df_101'\n",
        "# path = '/content/drive/MyDrive/Advanced ML final project/sepc_6_users'\n",
        "for action in unique_actions:\n",
        "  print('action: ', action)\n",
        "  for user in unique_users:\n",
        "    print('user: ', user)\n",
        "    act_user_temp = initial_data[(initial_data['activity_id']==action) & (initial_data['User']==user)]\n",
        "    NFFT = 25\n",
        "    noverlap = int(0.25 * NFFT)\n",
        "    fig = plt.figure(frameon=False)\n",
        "    sr = 100\n",
        "    timestep = 0\n",
        "    for row in range(0, act_user_temp.shape[0], 150): # overlap of the data is 50%. not the hyperparameter of FFT.\n",
        "      timestep += 1\n",
        "      spec_acc, freqenciesFound_x, time, imageAxis_x = plt.specgram(act_user_temp['acc_norm'][row:row + 200], Fs=100, NFFT=NFFT, noverlap=noverlap, window=np.hamming(NFFT),cmap='viridis')\n",
        "      spec_gyro, freqenciesFound_x, time, imageAxis_x = plt.specgram(act_user_temp['gyro_norm'][row:row + 200], Fs=100, NFFT=NFFT, noverlap=noverlap, window=np.hamming(NFFT),cmap='viridis')\n",
        "      instance = pd.DataFrame({'activity':action, 'timstep':timestep, 'user':user, 'acc_spec':[spec_acc], 'gyro_spec':[spec_gyro]})\n",
        "      dff = dff.append(instance, ignore_index=True)\n",
        "    plt.close(\"all\")"
      ],
      "execution_count": null,
      "outputs": []
    },
    {
      "cell_type": "code",
      "metadata": {
        "id": "ftsWjLiH7lAY"
      },
      "source": [
        "# dff.to_pickle(\"/content/drive/MyDrive/Advanced ML final project/labeled_data_6_users_6_aug_2_sec.pkl\")\n",
        "dff.to_pickle(spectogram_path +  '/labeled_data_6_users_6_aug_2_sec.pkl')"
      ],
      "execution_count": null,
      "outputs": []
    },
    {
      "cell_type": "code",
      "metadata": {
        "id": "R2_k3OcXUZ2I"
      },
      "source": [
        "df = pd.read_pickle(spectogram_path + '/labeled_data_6_users_6_aug_2_sec.pkl')"
      ],
      "execution_count": 51,
      "outputs": []
    },
    {
      "cell_type": "markdown",
      "metadata": {
        "id": "gGLXCZ_K62Wx"
      },
      "source": [
        "#### Activities filterring and making the labels sequencials"
      ]
    },
    {
      "cell_type": "code",
      "metadata": {
        "id": "u542J3qU87Sa"
      },
      "source": [
        "df = df[df['activity'].isin([1,2,3,4,5,6,7,12,13,16,17])]"
      ],
      "execution_count": 17,
      "outputs": []
    },
    {
      "cell_type": "code",
      "metadata": {
        "id": "FcXRjcbW_TvA"
      },
      "source": [
        "df['activity'].loc[(df['activity']==12)] = 8\n",
        "df['activity'].loc[(df['activity']==13)] = 9\n",
        "df['activity'].loc[(df['activity']==16)] = 10\n",
        "df['activity'].loc[(df['activity']==17)] = 0"
      ],
      "execution_count": 18,
      "outputs": []
    },
    {
      "cell_type": "code",
      "metadata": {
        "colab": {
          "base_uri": "https://localhost:8080/"
        },
        "id": "fItsVUKDL0c1",
        "outputId": "6d9a622f-f434-4a8e-9692-7b84aeef8fad"
      },
      "source": [
        "df[df['activity'] == 4].shape"
      ],
      "execution_count": 19,
      "outputs": [
        {
          "output_type": "execute_result",
          "data": {
            "text/plain": [
              "(14898, 5)"
            ]
          },
          "metadata": {},
          "execution_count": 19
        }
      ]
    },
    {
      "cell_type": "markdown",
      "metadata": {
        "id": "yQq-QGu_7HYj"
      },
      "source": [
        "#### Balancing the data"
      ]
    },
    {
      "cell_type": "code",
      "metadata": {
        "id": "SQqLAPcKI38h"
      },
      "source": [
        "df0 =  df[df['activity']==0]\n",
        "df0_100 = df0.reset_index().iloc[:10_000]\n",
        "\n",
        "df1 =  df[df['activity']==1]\n",
        "df1_100 = df1.reset_index().iloc[:10_000]\n",
        "\n",
        "df2 =  df[df['activity']==2]\n",
        "df2_100 = df2.reset_index().iloc[:10_000]\n",
        "\n",
        "df3 =  df[df['activity']==3]\n",
        "df3_100 = df3.reset_index().iloc[:10_000]\n",
        "\n",
        "df4 =  df[df['activity']==4]\n",
        "df4_100 = df4.reset_index().iloc[:10_000]\n",
        "\n",
        "df5 =  df[df['activity']==5]\n",
        "df5_100 = df5.reset_index().iloc[:10_000]\n",
        "\n",
        "df6 =  df[df['activity']==6]\n",
        "df6_100 = df6.reset_index().iloc[:10_000]\n",
        "\n",
        "df7 =  df[df['activity']==7]\n",
        "df7_100 = df7.reset_index().iloc[:10_000]"
      ],
      "execution_count": 20,
      "outputs": []
    },
    {
      "cell_type": "code",
      "metadata": {
        "id": "JTjYrck_KKVy"
      },
      "source": [
        "df = pd.concat([df0_100, df1_100, df2_100, df3_100,df4_100,df5_100,df6_100,df7_100])"
      ],
      "execution_count": 21,
      "outputs": []
    },
    {
      "cell_type": "markdown",
      "metadata": {
        "id": "3k2P3d_87N9o"
      },
      "source": [
        "### Creating timesteps"
      ]
    },
    {
      "cell_type": "code",
      "metadata": {
        "id": "m3Z2Hce9440U"
      },
      "source": [
        "loader_df_train = pd.DataFrame(columns=['id', 'input_5_timesteps', 'label'])\n",
        "loader_df_test = pd.DataFrame(columns=['id', 'input_5_timesteps', 'label'])\n",
        "id = 0\n",
        "for user in unique_users:\n",
        "  if user not in ('106', '1060', '1061', '1062', '1063', '1064', '1065', '1066', '1067', '1068', '1069', '10610', '10611', '10612', '10613', '10614'):\n",
        "    for action in unique_actions:\n",
        "      ua_df = df[(df['user']==user) & (df['activity']==action)]\n",
        "      for t in range(0, ua_df.shape[0], 5):\n",
        "        vec_acc = ua_df.iloc[t:t+5]['acc_spec'].tolist()\n",
        "        vec_gyro = ua_df.iloc[t:t+5]['gyro_spec'].tolist()\n",
        "        vec_acc_gyro = [vec_acc] + [vec_gyro]\n",
        "        instance = pd.DataFrame({'id': id, 'input_5_timesteps': [vec_acc_gyro], 'label': action})\n",
        "        loader_df_train = loader_df_train.append(instance, ignore_index=True)\n",
        "        id += 1\n",
        "  elif user == '106':\n",
        "    for action in unique_actions:\n",
        "      ua_df = df[(df['user']==user) & (df['activity']==action)]\n",
        "      for t in range(0, ua_df.shape[0], 5):\n",
        "        vec_acc = ua_df.iloc[t:t+5]['acc_spec'].tolist()\n",
        "        vec_gyro = ua_df.iloc[t:t+5]['gyro_spec'].tolist()\n",
        "        vec_acc_gyro = [vec_acc] + [vec_gyro]\n",
        "        instance = pd.DataFrame({'id': id, 'input_5_timesteps': [vec_acc_gyro], 'label': action})\n",
        "        loader_df_test = loader_df_test.append(instance, ignore_index=True)\n",
        "        id += 1\n",
        "  else:\n",
        "    continue\n"
      ],
      "execution_count": 22,
      "outputs": []
    },
    {
      "cell_type": "code",
      "metadata": {
        "colab": {
          "base_uri": "https://localhost:8080/"
        },
        "id": "2KaVAKcn4tXJ",
        "outputId": "42af99f9-0afe-4506-e0c2-1b40861fd3c8"
      },
      "source": [
        "loader_df_test.shape"
      ],
      "execution_count": 23,
      "outputs": [
        {
          "output_type": "execute_result",
          "data": {
            "text/plain": [
              "(275, 3)"
            ]
          },
          "metadata": {},
          "execution_count": 23
        }
      ]
    },
    {
      "cell_type": "code",
      "metadata": {
        "colab": {
          "base_uri": "https://localhost:8080/"
        },
        "id": "j_nB8p59Sj0u",
        "outputId": "ae9414f6-5634-4c70-acfb-806d7f05e98b"
      },
      "source": [
        "# Convert to tensor and cleaning incompleted instances (less than 5 timesteps)\n",
        "x = loader_df_train['input_5_timesteps']\n",
        "id = []\n",
        "label = []\n",
        "tensor_input = []\n",
        "\n",
        "for i in range(len(x)):\n",
        "  try:\n",
        "    x_tensor = torch.FloatTensor(x[i])\n",
        "    # print(x_tensor.shape)\n",
        "    if x_tensor.shape == torch.Size([2, 5, 13, 10]):\n",
        "      tensor_input.append(x_tensor)\n",
        "      label.append(loader_df_train['label'][i])\n",
        "      id.append(loader_df_train['id'][i])\n",
        "\n",
        "  except:\n",
        "    print('*********',i)"
      ],
      "execution_count": 24,
      "outputs": [
        {
          "output_type": "stream",
          "text": [
            "********* 31\n",
            "********* 68\n",
            "********* 100\n",
            "********* 129\n",
            "********* 158\n",
            "********* 186\n",
            "********* 218\n",
            "********* 245\n",
            "********* 277\n",
            "********* 314\n",
            "********* 346\n",
            "********* 375\n",
            "********* 404\n",
            "********* 432\n",
            "********* 464\n",
            "********* 491\n",
            "********* 523\n",
            "********* 560\n",
            "********* 592\n",
            "********* 621\n",
            "********* 650\n",
            "********* 678\n",
            "********* 710\n",
            "********* 737\n",
            "********* 769\n",
            "********* 806\n",
            "********* 838\n",
            "********* 867\n",
            "********* 896\n",
            "********* 924\n",
            "********* 956\n",
            "********* 983\n",
            "********* 1015\n",
            "********* 1052\n",
            "********* 1084\n",
            "********* 1113\n",
            "********* 1142\n",
            "********* 1170\n",
            "********* 1202\n",
            "********* 1229\n",
            "********* 1261\n",
            "********* 1298\n",
            "********* 1330\n",
            "********* 1359\n",
            "********* 1388\n",
            "********* 1416\n",
            "********* 1448\n",
            "********* 1475\n",
            "********* 1507\n",
            "********* 1544\n",
            "********* 1576\n",
            "********* 1605\n",
            "********* 1634\n",
            "********* 1662\n",
            "********* 1694\n",
            "********* 1721\n",
            "********* 1760\n",
            "********* 1791\n",
            "********* 1822\n",
            "********* 1856\n",
            "********* 1898\n",
            "********* 1910\n",
            "********* 1943\n",
            "********* 1981\n",
            "********* 2020\n",
            "********* 2051\n",
            "********* 2082\n",
            "********* 2116\n",
            "********* 2158\n",
            "********* 2170\n",
            "********* 2203\n",
            "********* 2241\n",
            "********* 2280\n",
            "********* 2311\n",
            "********* 2342\n",
            "********* 2376\n",
            "********* 2418\n",
            "********* 2430\n",
            "********* 2463\n",
            "********* 2501\n",
            "********* 2540\n",
            "********* 2571\n",
            "********* 2602\n",
            "********* 2636\n",
            "********* 2678\n",
            "********* 2690\n",
            "********* 2723\n",
            "********* 2761\n",
            "********* 2800\n",
            "********* 2831\n",
            "********* 2862\n",
            "********* 2896\n",
            "********* 2938\n",
            "********* 2950\n",
            "********* 2983\n",
            "********* 3021\n",
            "********* 3060\n",
            "********* 3091\n",
            "********* 3122\n",
            "********* 3156\n",
            "********* 3198\n",
            "********* 3210\n",
            "********* 3243\n",
            "********* 3281\n",
            "********* 3320\n",
            "********* 3351\n",
            "********* 3382\n",
            "********* 3416\n",
            "********* 3458\n",
            "********* 3470\n",
            "********* 3503\n",
            "********* 3541\n",
            "********* 3585\n",
            "********* 3617\n",
            "********* 3653\n",
            "********* 3683\n",
            "********* 3724\n",
            "********* 3757\n",
            "********* 3790\n",
            "********* 3825\n",
            "********* 3869\n",
            "********* 3901\n",
            "********* 3937\n",
            "********* 3967\n",
            "********* 4008\n",
            "********* 4041\n",
            "********* 4074\n",
            "********* 4109\n",
            "********* 4153\n",
            "********* 4185\n",
            "********* 4221\n",
            "********* 4251\n",
            "********* 4292\n",
            "********* 4325\n",
            "********* 4358\n",
            "********* 4393\n",
            "********* 4437\n",
            "********* 4469\n",
            "********* 4505\n",
            "********* 4535\n",
            "********* 4576\n",
            "********* 4609\n",
            "********* 4642\n",
            "********* 4677\n",
            "********* 4721\n",
            "********* 4753\n",
            "********* 4789\n",
            "********* 4819\n",
            "********* 4860\n",
            "********* 4893\n",
            "********* 4926\n",
            "********* 4961\n",
            "********* 5005\n",
            "********* 5037\n",
            "********* 5073\n",
            "********* 5103\n",
            "********* 5144\n",
            "********* 5177\n",
            "********* 5210\n",
            "********* 5245\n",
            "********* 5289\n",
            "********* 5321\n",
            "********* 5357\n",
            "********* 5387\n",
            "********* 5428\n",
            "********* 5461\n",
            "********* 5494\n",
            "********* 5529\n",
            "********* 5581\n",
            "********* 5616\n",
            "********* 5659\n",
            "********* 5665\n",
            "********* 5734\n",
            "********* 5786\n",
            "********* 5821\n",
            "********* 5864\n",
            "********* 5870\n",
            "********* 5939\n",
            "********* 5991\n",
            "********* 6026\n",
            "********* 6055\n",
            "********* 6124\n",
            "********* 6176\n",
            "********* 6211\n",
            "********* 6216\n",
            "********* 6285\n",
            "********* 6337\n",
            "********* 6372\n",
            "********* 6377\n",
            "********* 6480\n",
            "********* 6515\n",
            "********* 6520\n",
            "********* 6600\n",
            "********* 6635\n",
            "********* 6640\n",
            "********* 6702\n",
            "********* 6724\n",
            "********* 6755\n",
            "********* 6777\n",
            "********* 6808\n",
            "********* 6830\n",
            "********* 6852\n",
            "********* 6874\n",
            "********* 6896\n",
            "********* 6918\n"
          ],
          "name": "stdout"
        }
      ]
    },
    {
      "cell_type": "code",
      "metadata": {
        "colab": {
          "base_uri": "https://localhost:8080/"
        },
        "id": "DhUs06Gf6nQX",
        "outputId": "906a6012-4fb1-44a2-a6b9-faef0348ab74"
      },
      "source": [
        "# Convert to tensor and cleaning incompleted instances (less than 5 timesteps)\n",
        "x_test = loader_df_test['input_5_timesteps']\n",
        "id_test = []\n",
        "label_test = []\n",
        "tensor_input_test = []\n",
        "\n",
        "for i in range(len(x_test)):\n",
        "  try:\n",
        "    x_tensor = torch.FloatTensor(x_test[i])\n",
        "    # print(x_tensor.shape)\n",
        "    if x_tensor.shape == torch.Size([2, 5, 13, 10]):\n",
        "      tensor_input_test.append(x_tensor)\n",
        "      label_test.append(loader_df_test['label'][i])\n",
        "      id_test.append(loader_df_test['id'][i])\n",
        "\n",
        "  except:\n",
        "    print('*********',i)"
      ],
      "execution_count": 25,
      "outputs": [
        {
          "output_type": "stream",
          "text": [
            "********* 113\n",
            "********* 180\n",
            "********* 210\n",
            "********* 238\n",
            "********* 274\n"
          ],
          "name": "stdout"
        }
      ]
    },
    {
      "cell_type": "code",
      "metadata": {
        "colab": {
          "base_uri": "https://localhost:8080/",
          "height": 264
        },
        "id": "nhSPsGia4Dmr",
        "outputId": "c33de5ff-14ef-497b-a1b0-ca105fd85fd7"
      },
      "source": [
        "plt.hist(label, bins=8);"
      ],
      "execution_count": 26,
      "outputs": [
        {
          "output_type": "display_data",
          "data": {
            "image/png": "[encoded data removed]",
            "text/plain": [
              "<Figure size 432x288 with 1 Axes>"
            ]
          },
          "metadata": {
            "needs_background": "light"
          }
        }
      ]
    },
    {
      "cell_type": "code",
      "metadata": {
        "colab": {
          "base_uri": "https://localhost:8080/"
        },
        "id": "90qeUVUzUNXm",
        "outputId": "cd1de70a-7551-4dab-b773-400a25c22083"
      },
      "source": [
        "len(id), len(label), len(tensor_input)"
      ],
      "execution_count": 27,
      "outputs": [
        {
          "output_type": "execute_result",
          "data": {
            "text/plain": [
              "(6689, 6689, 6689)"
            ]
          },
          "metadata": {},
          "execution_count": 27
        }
      ]
    },
    {
      "cell_type": "code",
      "metadata": {
        "colab": {
          "base_uri": "https://localhost:8080/"
        },
        "id": "VJg8S_A3hftx",
        "outputId": "6196e74b-d7b6-47b7-fef6-90223b132a4a"
      },
      "source": [
        "np.unique(label, return_counts=True)"
      ],
      "execution_count": 28,
      "outputs": [
        {
          "output_type": "execute_result",
          "data": {
            "text/plain": [
              "(array([0, 1, 2, 3, 4, 5, 6, 7]),\n",
              " array([784, 914, 867, 868, 870, 665, 875, 846]))"
            ]
          },
          "metadata": {},
          "execution_count": 28
        }
      ]
    },
    {
      "cell_type": "markdown",
      "metadata": {
        "id": "f_AWN8Xb7evZ"
      },
      "source": [
        "### Dataloader"
      ]
    },
    {
      "cell_type": "code",
      "metadata": {
        "id": "-UUb314LPPbA"
      },
      "source": [
        "id = torch.tensor(id)\n",
        "label = torch.tensor(label)\n",
        "tensor_input = torch.stack(tensor_input)\n",
        "\n",
        "id_test = torch.tensor(id_test)\n",
        "label_test = torch.tensor(label_test)\n",
        "tensor_input_test = torch.stack(tensor_input_test)"
      ],
      "execution_count": 29,
      "outputs": []
    },
    {
      "cell_type": "code",
      "metadata": {
        "id": "QQqOkoa1TE6Q"
      },
      "source": [
        "train_dataset = TensorDataset(id, tensor_input, label)\n",
        "val_dataset = TensorDataset(id_test, tensor_input_test, label_test)\n",
        "# train_size = train\n",
        "# val_size = len(dataset) - train_size\n",
        "# train_dataset, val_dataset = random_split(dataset, [train_size, val_size])\n",
        "\n",
        "# print(f'{train_size} training samples')\n",
        "# print(f'{val_size} validation samples')"
      ],
      "execution_count": 30,
      "outputs": []
    },
    {
      "cell_type": "code",
      "metadata": {
        "id": "zJy-zo_rBkRV"
      },
      "source": [
        "torch.manual_seed(0)\n",
        "batch_size = 1\n",
        "train_dataloader = DataLoader(\n",
        "            train_dataset,  \n",
        "            sampler = RandomSampler(train_dataset), \n",
        "            batch_size = batch_size\n",
        "            )\n",
        "validation_dataloader = DataLoader(\n",
        "            val_dataset, \n",
        "            sampler = SequentialSampler(val_dataset),\n",
        "            batch_size = batch_size\n",
        "            )"
      ],
      "execution_count": 31,
      "outputs": []
    },
    {
      "cell_type": "markdown",
      "metadata": {
        "id": "vKDVuSzCxzYN"
      },
      "source": [
        "#Network"
      ]
    },
    {
      "cell_type": "code",
      "metadata": {
        "colab": {
          "base_uri": "https://localhost:8080/",
          "height": 282
        },
        "id": "Q1arvf42nrOH",
        "outputId": "75f2bd7b-c537-4a56-8321-df2b0d1e16c5"
      },
      "source": [
        "instance = next(iter(train_dataloader))\n",
        "acc_inst = instance[1][0][0][0]\n",
        "gyro_inst = instance[1][0][1][0]\n",
        "plt.imshow(gyro_inst);\n",
        "acc_inst.shape"
      ],
      "execution_count": null,
      "outputs": [
        {
          "output_type": "execute_result",
          "data": {
            "text/plain": [
              "torch.Size([13, 10])"
            ]
          },
          "metadata": {},
          "execution_count": 30
        },
        {
          "output_type": "display_data",
          "data": {
            "image/png": "[encoded data removed]",
            "text/plain": [
              "<Figure size 432x288 with 1 Axes>"
            ]
          },
          "metadata": {
            "needs_background": "light"
          }
        }
      ]
    },
    {
      "cell_type": "code",
      "metadata": {
        "colab": {
          "base_uri": "https://localhost:8080/",
          "height": 335
        },
        "id": "7JjUMfcjpnI-",
        "outputId": "f140a211-69d4-4390-ab1f-26be3ff13869"
      },
      "source": [
        "fig, axes = plt.subplots(2, 5, sharex=True, sharey=False, figsize=(15,5))\n",
        "instance = next(iter(train_dataloader))\n",
        "for i in range(5):\n",
        "    axes[0,i].imshow(instance[1][0][0][i])\n",
        "    axes[0,i].set_title(f'acc timestep {i+1}')\n",
        "for i in range(5):\n",
        "    axes[1,i].imshow(instance[1][0][1][i])\n",
        "    axes[1,i].set_title(f'gyro timestep {i+1}')"
      ],
      "execution_count": null,
      "outputs": [
        {
          "output_type": "display_data",
          "data": {
            "image/png": "[encoded data removed]",
            "text/plain": [
              "<Figure size 1080x360 with 10 Axes>"
            ]
          },
          "metadata": {
            "needs_background": "light"
          }
        }
      ]
    },
    {
      "cell_type": "code",
      "metadata": {
        "id": "_zj4fiuJrHCg"
      },
      "source": [
        "torch.manual_seed(0)\n",
        "class CNN_acc(nn.Module):\n",
        "  def __init__(self):\n",
        "    super(CNN_acc, self).__init__()\n",
        "    self.conv1 = nn.Conv2d(1, 32, (1,3), padding='same')\n",
        "    self.conv2 = nn.Conv2d(32, 32, (1,3), padding='same')\n",
        "    self.conv3 = nn.Conv2d(32, 64, (1,3), padding='same')\n",
        "    self.conv4 = nn.Conv2d(64, 64, (1,3), padding='same')\n",
        "    self.fc = nn.Linear(2048, 128)\n",
        "    torch.nn.init.xavier_normal(self.fc.weight)\n",
        "    torch.nn.init.xavier_normal(self.conv1.weight)\n",
        "    torch.nn.init.xavier_normal(self.conv2.weight)\n",
        "    torch.nn.init.xavier_normal(self.conv3.weight)\n",
        "    torch.nn.init.xavier_normal(self.conv4.weight)\n",
        "\n",
        "\n",
        "  def forward(self, x):\n",
        "    # print('x.shape 1: ', x.shape)\n",
        "    x = F.relu(self.conv1(x))\n",
        "    # print('x.shape 2: ', x.shape)\n",
        "    x = F.relu(F.max_pool2d(self.conv2(x), (1,2)))\n",
        "    # print('x.shape 3: ', x.shape)\n",
        "    x = F.relu(self.conv3(x))\n",
        "    # print('x.shape 4: ', x.shape)\n",
        "    x = F.relu(F.max_pool2d(self.conv4(x), (1,2)))\n",
        "    # print('x.shape 5: ', x.shape)\n",
        "    x = torch.flatten(x, start_dim=1)\n",
        "    # print('x.shape 6: ', x.shape)\n",
        "    x = self.fc(x)\n",
        "    # print('x.shape 7: ', x.shape)\n",
        "\n",
        "    return x"
      ],
      "execution_count": 32,
      "outputs": []
    },
    {
      "cell_type": "code",
      "metadata": {
        "id": "g5QdULoW3bgG"
      },
      "source": [
        "torch.manual_seed(0)\n",
        "class CNN_gyro(nn.Module):\n",
        "  def __init__(self):\n",
        "    super(CNN_gyro, self).__init__()\n",
        "    self.conv1 = nn.Conv2d(1, 32, (1,3), padding='same')\n",
        "    self.conv2 = nn.Conv2d(32, 32, (1,3), padding='same')\n",
        "    self.conv3 = nn.Conv2d(32, 64, (1,3), padding='same')\n",
        "    self.conv4 = nn.Conv2d(64, 64, (1,3), padding='same')\n",
        "    self.fc = nn.Linear(2048, 128)\n",
        "    torch.nn.init.xavier_normal(self.fc.weight)\n",
        "    torch.nn.init.xavier_normal(self.conv1.weight)\n",
        "    torch.nn.init.xavier_normal(self.conv2.weight)\n",
        "    torch.nn.init.xavier_normal(self.conv3.weight)\n",
        "    torch.nn.init.xavier_normal(self.conv4.weight)\n",
        "\n",
        "  def forward(self, x):\n",
        "    # print('x.shape 1: ', x.shape)\n",
        "    x = F.relu(self.conv1(x))\n",
        "    # print('x.shape 2: ', x.shape)\n",
        "    x = F.relu(F.max_pool2d(self.conv2(x), (1,2)))\n",
        "    # print('x.shape 3: ', x.shape)\n",
        "    x = F.relu(self.conv3(x))\n",
        "    # print('x.shape 4: ', x.shape)\n",
        "    x = F.relu(F.max_pool2d(self.conv4(x), (1,2)))\n",
        "    # print('x.shape 5: ', x.shape)\n",
        "    x = torch.flatten(x, start_dim=1)\n",
        "    # print('x.shape 6: ', x.shape)\n",
        "    x = self.fc(x)\n",
        "\n",
        "    return x"
      ],
      "execution_count": 33,
      "outputs": []
    },
    {
      "cell_type": "code",
      "metadata": {
        "id": "ngPraAbaN3wY"
      },
      "source": [
        "class Additive_Attention_1(nn.Module):\n",
        "  def __init__(self):\n",
        "    super(Additive_Attention_1, self).__init__()\n",
        "    self.w = torch.rand(2, 1)\n",
        "    self.w = torch.nn.Parameter(torch.nn.init.xavier_uniform_(self.w))\n",
        "    self.b = torch.zeros(1)\n",
        "    self.b = torch.nn.Parameter(self.b)\n",
        "    self.v = torch.rand(128, 1)\n",
        "    self.v = torch.nn.Parameter(torch.nn.init.xavier_uniform_(self.v))\n",
        "    self.new_linear = torch.nn.Linear(128, 128)\n",
        "\n",
        "  def forward(self, x):\n",
        "    # print('x.shape: ', x.shape)\n",
        "    temp_o = self.new_linear(torch.squeeze(x, 1))\n",
        "    # print('temp_o.shape: ', temp_o.shape)\n",
        "    o = torch.tanh(temp_o)\n",
        "    # print('temp_o.shape: ', temp_o.shape)\n",
        "    temp_w = o @ self.v\n",
        "    # print('temp_w.shape: ', temp_w.shape)\n",
        "    w = F.softmax(temp_w).reshape(5,1,2)\n",
        "    # print('w.shape: ', w.shape)\n",
        "    context = torch.bmm(w, temp_o)\n",
        "    # print('context.shape: ',context.shape)\n",
        "    \n",
        "    return context"
      ],
      "execution_count": 34,
      "outputs": []
    },
    {
      "cell_type": "code",
      "metadata": {
        "id": "OvIm2A3KuSai"
      },
      "source": [
        "class Additive_Attention_2(nn.Module):\n",
        "  def __init__(self):\n",
        "    super(Additive_Attention_2, self).__init__()\n",
        "    self.w = torch.rand(5, 1)\n",
        "    self.w = torch.nn.Parameter(torch.nn.init.xavier_uniform_(self.w))\n",
        "    self.b = torch.zeros(1)\n",
        "    self.b = torch.nn.Parameter(self.b)\n",
        "    self.v = torch.rand(64, 1)\n",
        "    self.v = torch.nn.Parameter(torch.nn.init.xavier_uniform_(self.v))\n",
        "    self.new_linear = torch.nn.Linear(128, 64)\n",
        "\n",
        "  def forward(self, x):\n",
        "    # print('x.shape: ', x.shape)\n",
        "    temp_o = self.new_linear(torch.squeeze(x, 1))\n",
        "    # print('temp_o.shape: ', temp_o.shape)\n",
        "    o = torch.tanh(temp_o)\n",
        "    # print('temp_o.shape: ', temp_o.shape)\n",
        "    temp_w = o @ self.v\n",
        "    # print('temp_w.shape: ', temp_w.shape)\n",
        "    w = F.softmax(temp_w)\n",
        "    # print('w.shape: ', w.shape)\n",
        "    context = w.T @ temp_o\n",
        "    # print('context.shape: ',context.shape)\n",
        "    \n",
        "    return context"
      ],
      "execution_count": 35,
      "outputs": []
    },
    {
      "cell_type": "code",
      "metadata": {
        "id": "sjDGBaHbSYsD"
      },
      "source": [
        "class Multihead(nn.Module):\n",
        "  def __init__(self):\n",
        "    super(Multihead, self).__init__()\n",
        "    self.attn = nn.MultiheadAttention(128, 1, batch_first=True)\n",
        "    self.norm = nn.BatchNorm1d(num_features=128)\n",
        "    self.fc1 = nn.Linear(128, 128)\n",
        "    self.fc2 = nn.Linear(128, 128)\n",
        "\n",
        "  def forward(self, x):\n",
        "    x_res = x.clone() # residual\n",
        "    # print('x_res: ', x_res.shape)\n",
        "    x = self.attn(x, x, x)[0]\n",
        "    # print('x1: ', x.shape)\n",
        "    x = torch.add(x, x_res)\n",
        "    # print('x2: ', x.shape)\n",
        "    x_res = x.clone()\n",
        "    # print('x2_res: ', x.shape)\n",
        "    x = F.relu(self.fc1(x))\n",
        "    # print('x3: ', x.shape)\n",
        "    x = self.fc2(x)\n",
        "    # print('x4: ', x.shape)\n",
        "    x = torch.add(x, x_res)\n",
        "    # print('x5: ', x.shape)\n",
        "    \n",
        "    return x"
      ],
      "execution_count": 36,
      "outputs": []
    },
    {
      "cell_type": "code",
      "metadata": {
        "id": "K6VaEypb34gg"
      },
      "source": [
        "class Attnsense_Attention(nn.Module):\n",
        "  def __init__(self):\n",
        "    super(Attnsense_Attention, self).__init__()\n",
        "    self.conv_acc = CNN_acc()\n",
        "    self.conv_gyro = CNN_gyro()\n",
        "    self.additive_attn_1 = Additive_Attention_1()\n",
        "    self.additive_attn_2 = Additive_Attention_2()\n",
        "    self.multihead_1 = Multihead()\n",
        "    self.multihead_2 = Multihead()\n",
        "    self.multihead_3 = Multihead()\n",
        "    self.fc = nn.Linear(64, 8)\n",
        "\n",
        "\n",
        "  def forward(self, x):\n",
        "    # print(x[0][0].shape)\n",
        "    acc_input = x[0][0].reshape(5,1,1,130)\n",
        "    gyro_input = x[0][1].reshape(5,1,1,130)\n",
        "    conv_acc_out = self.conv_acc.forward(acc_input)\n",
        "    conv_gyro_out = self.conv_gyro.forward(gyro_input)\n",
        "    # print('conv_acc_out: ', conv_acc_out.shape)\n",
        "    zipped = torch.stack([conv_acc_out, conv_gyro_out], dim=1)\n",
        "    #[5,2,128]\n",
        "    # print('zipped.shape: ', zipped.shape)\n",
        "    additive_attn_1_out = self.additive_attn_1(zipped)\n",
        "    # print('additive_attn_1_out.shape: ', additive_attn_1_out.shape)\n",
        "    #[5,1,128]\n",
        "    multihead_1_out = self.multihead_1(additive_attn_1_out)\n",
        "    # print('multihead_1_out.shape: ', multihead_1_out.shape)\n",
        "    multihead_2_out = self.multihead_2(multihead_1_out)\n",
        "    # print('multihead_2_out.shape: ', multihead_2_out.shape)\n",
        "    multihead_3_out = self.multihead_3(multihead_2_out)\n",
        "    # print('multihead_3_out.shape: ', multihead_3_out.shape)\n",
        "    #[5,1,64]\n",
        "    additive_attn_2_out = self.additive_attn_2(multihead_3_out)\n",
        "    # print('additive_attn_2_out: ', additive_attn_2_out.shape)\n",
        "    #[1,128]\n",
        "    x = self.fc(additive_attn_2_out)\n",
        "    # print('x.shape: ', x.shape)\n",
        "    x = F.softmax(x, dim=1)\n",
        "\n",
        "    return x"
      ],
      "execution_count": 37,
      "outputs": []
    },
    {
      "cell_type": "code",
      "metadata": {
        "id": "AlOMKN6LIaWX"
      },
      "source": [
        "def loss_calc(net, loader, criterion):\n",
        "  with torch.no_grad():\n",
        "    tot_loss = 0\n",
        "    for i, data in enumerate(loader, 0):\n",
        "      _, inputs, labels = data\n",
        "      inputs = inputs.to(device)\n",
        "      labels = labels.to(device)\n",
        "      outputs = net(inputs)\n",
        "      loss = criterion(outputs, labels)\n",
        "      tot_loss += loss.item()\n",
        "      \n",
        "  return tot_loss / (i + 1)"
      ],
      "execution_count": 38,
      "outputs": []
    },
    {
      "cell_type": "code",
      "metadata": {
        "id": "TYvqEhED_Rn-"
      },
      "source": [
        "def save_vectors(vectors, name):\n",
        "  a_file = open(f'{name}.pkl', 'wb')\n",
        "  pickle.dump(vectors, a_file)\n",
        "  a_file.close()"
      ],
      "execution_count": 39,
      "outputs": []
    },
    {
      "cell_type": "markdown",
      "metadata": {
        "id": "USfSBA9z8lQq"
      },
      "source": [
        "#### Training"
      ]
    },
    {
      "cell_type": "code",
      "metadata": {
        "id": "Xns1_oOBBE4v"
      },
      "source": [
        "torch.manual_seed(0)\n",
        "\n",
        "def train(net, train_loader, test_loader, epochs):\n",
        "    lowest_loss = 0\n",
        "    criterion = nn.CrossEntropyLoss()\n",
        "    optimizer = torch.optim.SGD(net.parameters(), lr = 0.0001, momentum=0.9) # best learning rate was 0.00005\n",
        "    start_time = timeit.default_timer()\n",
        "    train_loss = {}\n",
        "    test_loss = {}\n",
        "    for epoch in range(epochs):\n",
        "        running_loss = 0.0\n",
        "        print(epoch)\n",
        "        for i, data in enumerate(train_loader, 0):\n",
        "            _, inputs, labels = data\n",
        "            inputs = inputs.to(device)\n",
        "            labels = labels.to(device) \n",
        "\n",
        "            # zero the parameter gradients\n",
        "            optimizer.zero_grad()\n",
        "\n",
        "            # forward + backward + optimize\n",
        "            outputs = net(inputs)\n",
        "            \n",
        "            loss = criterion(outputs, labels)\n",
        "            loss.backward()\n",
        "            optimizer.step()\n",
        "\n",
        "            # print statistics\n",
        "            running_loss += loss.item()\n",
        "            if (i + 1) % 100 == 0:    \n",
        "                print('[%d, %5d] loss: %.3f' %\n",
        "                      (epoch + 1, i + 1, running_loss / 100))\n",
        "                running_loss = 0.0\n",
        "        train_loss[epoch + 1] = loss_calc(net, train_loader, criterion)\n",
        "\n",
        "        test_loss[epoch + 1] = loss_calc(net, test_loader, criterion) \n",
        "        print(f'Epoch = {epoch + 1}, train loss = {train_loss[epoch + 1]}')\n",
        "        print(f'Epoch = {epoch + 1}, test loss = {test_loss[epoch + 1]}')\n",
        "\n",
        "        if test_loss[epoch + 1] < 1.7 and lowest_loss == 0:\n",
        "          lowest_loss = test_loss[epoch + 1]\n",
        "          torch.save(net.state_dict(), model_path + '/model_with_attentions_final_3_6_aug_106_test')\n",
        "          save_vectors(train_loss, model_path + '/train_loss_attention_final_3_6_aug_106_test')\n",
        "          save_vectors(test_loss, model_path + '/test_loss_attention_final_3_6_aug_106_test')\n",
        "\n",
        "        if test_loss[epoch + 1] < lowest_loss:\n",
        "          lowest_loss = test_loss[epoch + 1]\n",
        "          torch.save(net.state_dict(), model_path + '/model_with_attentions_final_3_6_aug_106_test')\n",
        "          save_vectors(train_loss, model_path + '/train_loss_attention_final_3_6_aug_106_test')\n",
        "          save_vectors(test_loss, model_path + '/test_loss_attention_final_3_6_aug_106_test')\n",
        "\n",
        "        if test_loss[epoch+1] < 1.75:\n",
        "          optimizer = torch.optim.SGD(net.parameters(), lr = 0.00001, momentum=0.9) \n",
        "        if test_loss[epoch+1] < 1.65:\n",
        "          optimizer = torch.optim.SGD(net.parameters(), lr = 0.000001, momentum=0.9) \n",
        "    end_time = timeit.default_timer()\n",
        "\n",
        "    print(f'Finish Training + Testing after: {end_time - start_time}')\n",
        "    return train_loss, test_loss"
      ],
      "execution_count": null,
      "outputs": []
    },
    {
      "cell_type": "code",
      "metadata": {
        "colab": {
          "base_uri": "https://localhost:8080/"
        },
        "id": "rYq7AMV6HcUf",
        "outputId": "606c7935-988e-4104-9433-abbbb1180ae8"
      },
      "source": [
        "net = Attnsense_Attention().to(device)"
      ],
      "execution_count": null,
      "outputs": [
        {
          "output_type": "stream",
          "text": [
            "/usr/local/lib/python3.7/dist-packages/ipykernel_launcher.py:10: UserWarning: nn.init.xavier_normal is now deprecated in favor of nn.init.xavier_normal_.\n",
            "  # Remove the CWD from sys.path while we load stuff.\n",
            "/usr/local/lib/python3.7/dist-packages/ipykernel_launcher.py:11: UserWarning: nn.init.xavier_normal is now deprecated in favor of nn.init.xavier_normal_.\n",
            "  # This is added back by InteractiveShellApp.init_path()\n",
            "/usr/local/lib/python3.7/dist-packages/ipykernel_launcher.py:12: UserWarning: nn.init.xavier_normal is now deprecated in favor of nn.init.xavier_normal_.\n",
            "  if sys.path[0] == '':\n",
            "/usr/local/lib/python3.7/dist-packages/ipykernel_launcher.py:13: UserWarning: nn.init.xavier_normal is now deprecated in favor of nn.init.xavier_normal_.\n",
            "  del sys.path[0]\n",
            "/usr/local/lib/python3.7/dist-packages/ipykernel_launcher.py:14: UserWarning: nn.init.xavier_normal is now deprecated in favor of nn.init.xavier_normal_.\n",
            "  \n"
          ],
          "name": "stderr"
        }
      ]
    },
    {
      "cell_type": "code",
      "metadata": {
        "colab": {
          "background_save": true
        },
        "id": "nLdHEyidBmJK"
      },
      "source": [
        "Intrain_loss, test_loss = train(net, train_dataloader, validation_dataloader, 1000)"
      ],
      "execution_count": null,
      "outputs": []
    },
    {
      "cell_type": "code",
      "metadata": {
        "colab": {
          "background_save": true
        },
        "id": "geryUMo1B6s5",
        "outputId": "e882457b-94bb-44a3-9d3c-5e8d1888677f"
      },
      "source": [
        "net = Attnsense()\n",
        "print(net.forward)"
      ],
      "execution_count": null,
      "outputs": [
        {
          "name": "stdout",
          "output_type": "stream",
          "text": [
            "<bound method Attnsense.forward of Attnsense(\n",
            "  (conv_acc): CNN_acc(\n",
            "    (conv1): Conv2d(1, 32, kernel_size=(1, 3), stride=(1, 1), padding=same)\n",
            "    (conv2): Conv2d(32, 32, kernel_size=(1, 3), stride=(1, 1), padding=same)\n",
            "    (conv3): Conv2d(32, 64, kernel_size=(1, 3), stride=(1, 1), padding=same)\n",
            "    (conv4): Conv2d(64, 64, kernel_size=(1, 3), stride=(1, 1), padding=same)\n",
            "    (fc): Linear(in_features=2048, out_features=128, bias=True)\n",
            "  )\n",
            "  (conv_gyro): CNN_gyro(\n",
            "    (conv1): Conv2d(1, 32, kernel_size=(1, 3), stride=(1, 1), padding=same)\n",
            "    (conv2): Conv2d(32, 32, kernel_size=(1, 3), stride=(1, 1), padding=same)\n",
            "    (conv3): Conv2d(32, 64, kernel_size=(1, 3), stride=(1, 1), padding=same)\n",
            "    (conv4): Conv2d(64, 64, kernel_size=(1, 3), stride=(1, 1), padding=same)\n",
            "    (fc): Linear(in_features=2048, out_features=128, bias=True)\n",
            "  )\n",
            "  (attn1): MultiheadAttention(\n",
            "    (out_proj): NonDynamicallyQuantizableLinear(in_features=128, out_features=128, bias=True)\n",
            "  )\n",
            "  (gru): GRU(128, 64, num_layers=2)\n",
            "  (fc_gru): Linear(in_features=64, out_features=8, bias=True)\n",
            ")>\n"
          ]
        }
      ]
    },
    {
      "cell_type": "markdown",
      "metadata": {
        "id": "WvmFSu6D-Y6D"
      },
      "source": [
        "### Evaluation"
      ]
    },
    {
      "cell_type": "code",
      "metadata": {
        "id": "oMX-B7N8QOmz"
      },
      "source": [
        "def load_vectors(path):\n",
        "    t = open(path, 'rb')\n",
        "    output = pickle.load(t)\n",
        "    t.close()\n",
        "    \n",
        "    return output"
      ],
      "execution_count": 40,
      "outputs": []
    },
    {
      "cell_type": "code",
      "metadata": {
        "id": "Hrmng10FQP36"
      },
      "source": [
        "train_loss = load_vectors(model_path + '/train_loss_attention_final_3_6_aug_106_test.pkl')\n",
        "test_loss = load_vectors(model_path + '/test_loss_attention_final_3_6_aug_106_test.pkl')"
      ],
      "execution_count": 41,
      "outputs": []
    },
    {
      "cell_type": "code",
      "metadata": {
        "colab": {
          "base_uri": "https://localhost:8080/"
        },
        "id": "SsTeG6ulR4iu",
        "outputId": "d68325d4-f81a-4280-c48f-413acf4d3d89"
      },
      "source": [
        "min(test_loss.values())"
      ],
      "execution_count": 42,
      "outputs": [
        {
          "output_type": "execute_result",
          "data": {
            "text/plain": [
              "1.5188516677542125"
            ]
          },
          "metadata": {},
          "execution_count": 42
        }
      ]
    },
    {
      "cell_type": "code",
      "metadata": {
        "id": "M3NLcXeOvcrC"
      },
      "source": [
        "def mean_k(dict_values, k):\n",
        "  val = np.array(list(dict_values))\n",
        "  out = []\n",
        "  for i in range(val.shape[0] - k):\n",
        "    out.append(val[i:i+k].mean())\n",
        "  return out"
      ],
      "execution_count": 43,
      "outputs": []
    },
    {
      "cell_type": "code",
      "metadata": {
        "colab": {
          "base_uri": "https://localhost:8080/",
          "height": 523
        },
        "id": "8_B-tdnUxLqz",
        "outputId": "8ab20470-2e10-4589-a84a-123aaaf6b66a"
      },
      "source": [
        "plt.figure(figsize = (8, 8))\n",
        "plt.plot(list(train_loss.keys()), list(train_loss.values()), label = 'train')\n",
        "plt.plot(list(test_loss.keys()), list(test_loss.values()), label = 'test')\n",
        "# plt.plot(mean_k(test_loss.values(), 20), label = 'mean 20', linewidth=3, linestyle='--')\n",
        "plt.xlabel('Epoch Number', fontsize = 20)\n",
        "plt.ylabel('Loss', fontsize = 20)\n",
        "plt.legend(fontsize = 20)"
      ],
      "execution_count": 44,
      "outputs": [
        {
          "output_type": "execute_result",
          "data": {
            "text/plain": [
              "<matplotlib.legend.Legend at 0x7f4d8a730f90>"
            ]
          },
          "metadata": {},
          "execution_count": 44
        },
        {
          "output_type": "display_data",
          "data": {
            "image/png": "[encoded data removed]",
            "text/plain": [
              "<Figure size 576x576 with 1 Axes>"
            ]
          },
          "metadata": {
            "needs_background": "light"
          }
        }
      ]
    },
    {
      "cell_type": "code",
      "metadata": {
        "colab": {
          "base_uri": "https://localhost:8080/"
        },
        "id": "HGnFfo_4c_9p",
        "outputId": "db898e7f-3da8-46e3-87ee-affd96ec1cb2"
      },
      "source": [
        "model = Attnsense_Attention()\n",
        "model.load_state_dict(torch.load(model_path + '/model_with_attentions_final_3_6_aug_106_test'))"
      ],
      "execution_count": 45,
      "outputs": [
        {
          "output_type": "stream",
          "text": [
            "/usr/local/lib/python3.7/dist-packages/ipykernel_launcher.py:10: UserWarning: nn.init.xavier_normal is now deprecated in favor of nn.init.xavier_normal_.\n",
            "  # Remove the CWD from sys.path while we load stuff.\n",
            "/usr/local/lib/python3.7/dist-packages/ipykernel_launcher.py:11: UserWarning: nn.init.xavier_normal is now deprecated in favor of nn.init.xavier_normal_.\n",
            "  # This is added back by InteractiveShellApp.init_path()\n",
            "/usr/local/lib/python3.7/dist-packages/ipykernel_launcher.py:12: UserWarning: nn.init.xavier_normal is now deprecated in favor of nn.init.xavier_normal_.\n",
            "  if sys.path[0] == '':\n",
            "/usr/local/lib/python3.7/dist-packages/ipykernel_launcher.py:13: UserWarning: nn.init.xavier_normal is now deprecated in favor of nn.init.xavier_normal_.\n",
            "  del sys.path[0]\n",
            "/usr/local/lib/python3.7/dist-packages/ipykernel_launcher.py:14: UserWarning: nn.init.xavier_normal is now deprecated in favor of nn.init.xavier_normal_.\n",
            "  \n"
          ],
          "name": "stderr"
        },
        {
          "output_type": "execute_result",
          "data": {
            "text/plain": [
              "<All keys matched successfully>"
            ]
          },
          "metadata": {},
          "execution_count": 45
        }
      ]
    },
    {
      "cell_type": "code",
      "metadata": {
        "id": "EjN2bQnMz0d-"
      },
      "source": [
        "def acc(net, loader):\n",
        "    correct = 0\n",
        "    total = 0\n",
        "    all_preds = torch.tensor([])\n",
        "    all_lab = torch.tensor([])\n",
        "    with torch.no_grad():\n",
        "        for data in loader:\n",
        "            _, inputs, labels = data\n",
        "            inputs = inputs\n",
        "            labels = labels\n",
        "            outputs = net(inputs).reshape(1,-1)\n",
        "            _, predicted = torch.max(outputs.data, 1)\n",
        "            total += labels.size(0)\n",
        "            correct += (predicted == labels).sum().item()\n",
        "            all_preds = torch.cat((all_preds, predicted) ,dim=0)\n",
        "            all_lab = torch.cat((all_lab, labels) ,dim=0)\n",
        "    print('Accuracy of the network on the test images: %d %%' % (100 * correct / total))\n",
        "    return all_lab, all_preds"
      ],
      "execution_count": 46,
      "outputs": []
    },
    {
      "cell_type": "code",
      "metadata": {
        "colab": {
          "base_uri": "https://localhost:8080/"
        },
        "id": "vkX681a_8wJx",
        "outputId": "37244209-270a-4781-a11c-d0008cd2ca31"
      },
      "source": [
        "y_true, y_pred = acc(model, validation_dataloader)"
      ],
      "execution_count": 47,
      "outputs": [
        {
          "output_type": "stream",
          "text": [
            "/usr/local/lib/python3.7/dist-packages/torch/nn/functional.py:718: UserWarning: Named tensors and all their associated APIs are an experimental feature and subject to change. Please do not use them for anything important until they are released as stable. (Triggered internally at  /pytorch/c10/core/TensorImpl.h:1156.)\n",
            "  return torch.max_pool2d(input, kernel_size, stride, padding, dilation, ceil_mode)\n",
            "/usr/local/lib/python3.7/dist-packages/ipykernel_launcher.py:20: UserWarning: Implicit dimension choice for softmax has been deprecated. Change the call to include dim=X as an argument.\n"
          ],
          "name": "stderr"
        },
        {
          "output_type": "stream",
          "text": [
            "Accuracy of the network on the test images: 74 %\n"
          ],
          "name": "stdout"
        }
      ]
    },
    {
      "cell_type": "code",
      "metadata": {
        "colab": {
          "base_uri": "https://localhost:8080/",
          "height": 352
        },
        "id": "Oi6xax5XEThp",
        "outputId": "eee00757-37b5-42ae-adc7-e8e5095a28d4"
      },
      "source": [
        "activities = ['Ironing', 'Lying', 'Sitting', 'Standing', 'Walking', 'Running', 'Cycling', 'Nordic Walking']\n",
        "sn.heatmap(pd.DataFrame(confusion_matrix(y_true, y_pred), columns=activities, index=activities), annot=True)"
      ],
      "execution_count": 48,
      "outputs": [
        {
          "output_type": "execute_result",
          "data": {
            "text/plain": [
              "<matplotlib.axes._subplots.AxesSubplot at 0x7f4d8a5f16d0>"
            ]
          },
          "metadata": {},
          "execution_count": 48
        },
        {
          "output_type": "display_data",
          "data": {
            "image/png": "[encoded data removed]",
            "text/plain": [
              "<Figure size 432x288 with 2 Axes>"
            ]
          },
          "metadata": {
            "needs_background": "light"
          }
        }
      ]
    },
    {
      "cell_type": "code",
      "metadata": {
        "id": "SNsulwg_8z3n"
      },
      "source": [
        ""
      ],
      "execution_count": null,
      "outputs": []
    }
  ]
}