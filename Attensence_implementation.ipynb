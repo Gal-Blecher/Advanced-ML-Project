{
  "nbformat": 4,
  "nbformat_minor": 0,
  "metadata": {
    "colab": {
      "name": "Advanced_ML_Attensence_implementation.ipynb",
      "provenance": [],
      "collapsed_sections": []
    },
    "kernelspec": {
      "display_name": "Python 3",
      "name": "python3"
    },
    "language_info": {
      "name": "python"
    },
    "accelerator": "GPU"
  },
  "cells": [
    {
      "cell_type": "markdown",
      "metadata": {
        "id": "yB_iKiab3RQc"
      },
      "source": [
        "\n",
        "# <center> AttenSense\n",
        "## <center> Shachar Reuvenny 200565679\n",
        "## <center> Gal Blecher 201566304"
      ]
    },
    {
      "cell_type": "markdown",
      "metadata": {
        "id": "txTxnRvk4BLf"
      },
      "source": [
        "### Imports"
      ]
    },
    {
      "cell_type": "code",
      "metadata": {
        "id": "57CUAXpwf--E"
      },
      "source": [
        "import numpy as np\n",
        "import pandas as pd\n",
        "import matplotlib.pyplot as plt\n",
        "import os\n",
        "from torch.utils.data import Dataset, DataLoader, TensorDataset, RandomSampler, SequentialSampler, random_split\n",
        "import torch\n",
        "from sklearn.metrics import confusion_matrix\n",
        "import torch.nn as nn\n",
        "import torch.nn.functional as F\n",
        "import torch.optim as optim\n",
        "import pickle\n",
        "import timeit\n",
        "import seaborn as sn"
      ],
      "execution_count": null,
      "outputs": []
    },
    {
      "cell_type": "code",
      "metadata": {
        "colab": {
          "base_uri": "https://localhost:8080/"
        },
        "id": "2K80BwoygDEM",
        "outputId": "c64a97fe-96c5-4de2-91b5-be4d70bf9782"
      },
      "source": [
        "from google.colab import drive\n",
        "drive.mount('/content/drive')"
      ],
      "execution_count": null,
      "outputs": [
        {
          "output_type": "stream",
          "text": [
            "Mounted at /content/drive\n"
          ],
          "name": "stdout"
        }
      ]
    },
    {
      "cell_type": "markdown",
      "metadata": {
        "id": "yMRcDK495BdY"
      },
      "source": [
        "###Preprocess"
      ]
    },
    {
      "cell_type": "code",
      "metadata": {
        "id": "qWW3qiLeT_Lq"
      },
      "source": [
        "device = torch.device(\"cuda:0\" if torch.cuda.is_available() else \"cpu\")"
      ],
      "execution_count": null,
      "outputs": []
    },
    {
      "cell_type": "code",
      "metadata": {
        "id": "kcUMY3p5gF8p"
      },
      "source": [
        "# get the data of the subject and returns df with the relevant information\n",
        "def prep_data(path, subgect):\n",
        "  data = pd.read_csv(path, sep=' ', header=None)\n",
        "  data.columns = pd.RangeIndex(1, len(data.columns) + 1) \n",
        "  data.drop(3, axis='columns', inplace=True)\n",
        "  data = data.dropna()\n",
        "  data = data[[1,2,22,23,24,28,29,30]]\n",
        "  cols = {1: 'time_step', 2: 'activity_id', 22: 'acc_x', 23: 'acc_y', 24: 'acc_z', 28: 'gyro_x', 29: 'gyro_y', 30: 'gyro_z'}\n",
        "  data = data.rename(columns=cols)\n",
        "  # calculating norm\n",
        "  data['acc_norm'] = np.sqrt(data['acc_x'] ** 2 + data['acc_y'] ** 2 + data['acc_z'] ** 2)\n",
        "  data['gyro_norm'] = np.sqrt(data['gyro_x'] ** 2 + data['gyro_y'] ** 2 + data['gyro_z'] ** 2)\n",
        "  data['User'] = f'{subject}'\n",
        "  return data"
      ],
      "execution_count": null,
      "outputs": []
    },
    {
      "cell_type": "code",
      "metadata": {
        "id": "la9Jcs0sBBDk"
      },
      "source": [
        "# Perform preprocess for different subjects\n",
        "subjects = ['101', '102', '105', '106', '107', '108']\n",
        "path = '/content/drive/MyDrive/Advanced ML final project/PAMAP2_Dataset/Protocol'\n",
        "data_list = []\n",
        "for subject in subjects:\n",
        "  data_list.append(prep_data(path + '/subject' + subject + '.dat', subject))"
      ],
      "execution_count": null,
      "outputs": []
    },
    {
      "cell_type": "code",
      "metadata": {
        "id": "6NYdogccuudH"
      },
      "source": [
        "# Combine to one df\n",
        "for d in range(len(data_list)):\n",
        "  if d==0:\n",
        "    df = data_list[0]\n",
        "  else:\n",
        "    df = pd.concat([df, data_list[d]], axis=0, ignore_index=True)"
      ],
      "execution_count": null,
      "outputs": []
    },
    {
      "cell_type": "code",
      "metadata": {
        "id": "qlt1VyY-E6lg"
      },
      "source": [
        "# count = 0\n",
        "# for d in data_list:\n",
        "#   print(d.shape)\n",
        "#   count += d.shape[0]\n",
        "# count"
      ],
      "execution_count": null,
      "outputs": []
    },
    {
      "cell_type": "markdown",
      "metadata": {
        "id": "X6mJ9tFp6Qo6"
      },
      "source": [
        "#### Normalization"
      ]
    },
    {
      "cell_type": "code",
      "metadata": {
        "id": "GH5TYuclsasI"
      },
      "source": [
        "def normalize(df, cols): #list of columns\n",
        "  df_t=(df[cols]-df[cols].mean())/df[cols].std()\n",
        "  df_norm = df.copy()\n",
        "  df_norm[cols] = df_t\n",
        "  \n",
        "  return df_norm"
      ],
      "execution_count": null,
      "outputs": []
    },
    {
      "cell_type": "code",
      "metadata": {
        "id": "NKLKdDERsqBK"
      },
      "source": [
        "data_norm = normalize(df, ['acc_norm', 'gyro_norm'])"
      ],
      "execution_count": null,
      "outputs": []
    },
    {
      "cell_type": "markdown",
      "metadata": {
        "id": "_1KDrfDZ6UT8"
      },
      "source": [
        "#### Noise and Augmentation"
      ]
    },
    {
      "cell_type": "code",
      "metadata": {
        "id": "s_JNCcwLs5oY"
      },
      "source": [
        "def add_noise(df,cols, sigma=0.1):\n",
        "  noise = np.random.normal(0, sigma, df[cols].shape)\n",
        "  new_signal = df[cols] + noise\n",
        "  df_noise = df.copy()\n",
        "  df_noise[cols] = new_signal\n",
        "  \n",
        "  return df_noise"
      ],
      "execution_count": null,
      "outputs": []
    },
    {
      "cell_type": "code",
      "metadata": {
        "id": "xiJ7ZvNltA0q"
      },
      "source": [
        "def augment(df, cols, num_of_inst):\n",
        "  '''\n",
        "    df should be inserted notmalized\n",
        "    num_of_inst = num of instances to create from each instance\n",
        "  '''\n",
        "  aug_df = df.copy()\n",
        "  for i in range(num_of_inst):\n",
        "    np.random.seed(i)\n",
        "    nois_data = add_noise(df, cols)\n",
        "    nois_data['User'] = nois_data['User'] + f'{i}'\n",
        "    aug_df= pd.concat([aug_df, nois_data], axis=0, ignore_index=True)\n",
        "\n",
        "  return aug_df"
      ],
      "execution_count": null,
      "outputs": []
    },
    {
      "cell_type": "code",
      "metadata": {
        "id": "KipaHkhvtH7k"
      },
      "source": [
        "data_aug = augment(data_norm, ['acc_norm', 'gyro_norm'], 1)"
      ],
      "execution_count": null,
      "outputs": []
    },
    {
      "cell_type": "markdown",
      "metadata": {
        "id": "hHEIA0bC6sAU"
      },
      "source": [
        "### Spectograms"
      ]
    },
    {
      "cell_type": "code",
      "metadata": {
        "id": "jPCXDYCqu-Ll"
      },
      "source": [
        "initial_data = data_aug\n",
        "unique_actions = np.unique(initial_data['activity_id'])\n",
        "unique_users = np.unique(initial_data['User'])"
      ],
      "execution_count": null,
      "outputs": []
    },
    {
      "cell_type": "code",
      "metadata": {
        "id": "mPQtTHYT1PTH"
      },
      "source": [
        "dff = pd.DataFrame(columns=['activity','timstep', 'user','acc_spec','gyro_spec'])"
      ],
      "execution_count": null,
      "outputs": []
    },
    {
      "cell_type": "code",
      "metadata": {
        "colab": {
          "base_uri": "https://localhost:8080/",
          "height": 49
        },
        "id": "727XLM9yIqrs",
        "outputId": "dbf68e49-5dfa-4454-c9d6-cb24ff32bfda"
      },
      "source": [
        "dff.head()"
      ],
      "execution_count": null,
      "outputs": [
        {
          "output_type": "execute_result",
          "data": {
            "text/html": [
              "<div>\n",
              "<style scoped>\n",
              "    .dataframe tbody tr th:only-of-type {\n",
              "        vertical-align: middle;\n",
              "    }\n",
              "\n",
              "    .dataframe tbody tr th {\n",
              "        vertical-align: top;\n",
              "    }\n",
              "\n",
              "    .dataframe thead th {\n",
              "        text-align: right;\n",
              "    }\n",
              "</style>\n",
              "<table border=\"1\" class=\"dataframe\">\n",
              "  <thead>\n",
              "    <tr style=\"text-align: right;\">\n",
              "      <th></th>\n",
              "      <th>activity</th>\n",
              "      <th>timstep</th>\n",
              "      <th>user</th>\n",
              "      <th>acc_spec</th>\n",
              "      <th>gyro_spec</th>\n",
              "    </tr>\n",
              "  </thead>\n",
              "  <tbody>\n",
              "  </tbody>\n",
              "</table>\n",
              "</div>"
            ],
            "text/plain": [
              "Empty DataFrame\n",
              "Columns: [activity, timstep, user, acc_spec, gyro_spec]\n",
              "Index: []"
            ]
          },
          "metadata": {
            "tags": []
          },
          "execution_count": 27
        }
      ]
    },
    {
      "cell_type": "code",
      "metadata": {
        "id": "tlbnb21-vdxs"
      },
      "source": [
        "# # data_name = 'df_101'\n",
        "# path = '/content/drive/MyDrive/Advanced ML final project/sepc_6_users'\n",
        "# for action in unique_actions:\n",
        "#   print('action: ', action)\n",
        "#   for user in unique_users:\n",
        "#     print('user: ', user)\n",
        "#     act_user_temp = initial_data[(initial_data['activity_id']==action) & (initial_data['User']==user)]\n",
        "#     NFFT = 25\n",
        "#     noverlap = int(0.25 * NFFT)\n",
        "#     fig = plt.figure(frameon=False)\n",
        "#     sr = 100\n",
        "#     timestep = 0\n",
        "#     for row in range(0, act_user_temp.shape[0], 150): # overlap of the data is 50%. not the hyperparameter of FFT.\n",
        "#       timestep += 1\n",
        "#       spec_acc, freqenciesFound_x, time, imageAxis_x = plt.specgram(act_user_temp['acc_norm'][row:row + 200], Fs=100, NFFT=NFFT, noverlap=noverlap, window=np.hamming(NFFT),cmap='viridis')\n",
        "#       spec_gyro, freqenciesFound_x, time, imageAxis_x = plt.specgram(act_user_temp['gyro_norm'][row:row + 200], Fs=100, NFFT=NFFT, noverlap=noverlap, window=np.hamming(NFFT),cmap='viridis')\n",
        "#       instance = pd.DataFrame({'activity':action, 'timstep':timestep, 'user':user, 'acc_spec':[spec_acc], 'gyro_spec':[spec_gyro]})\n",
        "#       dff = dff.append(instance, ignore_index=True)\n",
        "#     plt.close(\"all\")"
      ],
      "execution_count": null,
      "outputs": []
    },
    {
      "cell_type": "code",
      "metadata": {
        "id": "ftsWjLiH7lAY"
      },
      "source": [
        "# dff.to_pickle(\"/content/drive/MyDrive/Advanced ML final project/labeled_data_6_users_2_sec.pkl\")"
      ],
      "execution_count": null,
      "outputs": []
    },
    {
      "cell_type": "code",
      "metadata": {
        "id": "R2_k3OcXUZ2I"
      },
      "source": [
        "df = pd.read_pickle(\"/content/drive/MyDrive/Advanced ML final project/labeled_data_6_users_2_sec.pkl\")"
      ],
      "execution_count": null,
      "outputs": []
    },
    {
      "cell_type": "markdown",
      "metadata": {
        "id": "gGLXCZ_K62Wx"
      },
      "source": [
        "#### Activities filterring and making the labels sequencials"
      ]
    },
    {
      "cell_type": "code",
      "metadata": {
        "id": "u542J3qU87Sa"
      },
      "source": [
        "df = df[df['activity'].isin([1,2,3,4,5,6,7,12,13,16,17])]"
      ],
      "execution_count": null,
      "outputs": []
    },
    {
      "cell_type": "code",
      "metadata": {
        "id": "FcXRjcbW_TvA"
      },
      "source": [
        "df['activity'].loc[(df['activity']==12)] = 8\n",
        "df['activity'].loc[(df['activity']==13)] = 9\n",
        "df['activity'].loc[(df['activity']==16)] = 10\n",
        "df['activity'].loc[(df['activity']==17)] = 0"
      ],
      "execution_count": null,
      "outputs": []
    },
    {
      "cell_type": "code",
      "metadata": {
        "colab": {
          "base_uri": "https://localhost:8080/"
        },
        "id": "fItsVUKDL0c1",
        "outputId": "d0afefd7-8163-4fdf-cb6d-0e0f0dfdee4e"
      },
      "source": [
        "df[df['activity'] == 10].shape"
      ],
      "execution_count": null,
      "outputs": [
        {
          "output_type": "execute_result",
          "data": {
            "text/plain": [
              "(1802, 5)"
            ]
          },
          "metadata": {
            "tags": []
          },
          "execution_count": 17
        }
      ]
    },
    {
      "cell_type": "markdown",
      "metadata": {
        "id": "yQq-QGu_7HYj"
      },
      "source": [
        "#### Balancing the data"
      ]
    },
    {
      "cell_type": "code",
      "metadata": {
        "id": "SQqLAPcKI38h"
      },
      "source": [
        "df0 =  df[df['activity']==0]\n",
        "df0_100 = df0.reset_index().iloc[:1000]\n",
        "\n",
        "df1 =  df[df['activity']==1]\n",
        "df1_100 = df1.reset_index().iloc[:1000]\n",
        "\n",
        "df2 =  df[df['activity']==2]\n",
        "df2_100 = df2.reset_index().iloc[:1000]\n",
        "\n",
        "df3 =  df[df['activity']==3]\n",
        "df3_100 = df3.reset_index().iloc[:1000]\n",
        "\n",
        "df4 =  df[df['activity']==4]\n",
        "df4_100 = df4.reset_index().iloc[:1000]\n",
        "\n",
        "df5 =  df[df['activity']==5]\n",
        "df5_100 = df5.reset_index().iloc[:1000]\n",
        "\n",
        "df6 =  df[df['activity']==6]\n",
        "df6_100 = df6.reset_index().iloc[:1000]\n",
        "\n",
        "df7 =  df[df['activity']==7]\n",
        "df7_100 = df7.reset_index().iloc[:1000]"
      ],
      "execution_count": null,
      "outputs": []
    },
    {
      "cell_type": "code",
      "metadata": {
        "id": "JTjYrck_KKVy"
      },
      "source": [
        "df = pd.concat([df0_100, df1_100, df2_100, df3_100,df4_100,df5_100,df6_100,df7_100])"
      ],
      "execution_count": null,
      "outputs": []
    },
    {
      "cell_type": "markdown",
      "metadata": {
        "id": "3k2P3d_87N9o"
      },
      "source": [
        "### Creating timesteps"
      ]
    },
    {
      "cell_type": "code",
      "metadata": {
        "id": "m3Z2Hce9440U"
      },
      "source": [
        "loader_df = pd.DataFrame(columns=['id', 'input_5_timesteps', 'label'])\n",
        "id = 0\n",
        "for user in unique_users:\n",
        "  for action in unique_actions:\n",
        "    ua_df = df[(df['user']==user) & (df['activity']==action)]\n",
        "    for t in range(0, ua_df.shape[0], 5):\n",
        "      vec_acc = ua_df.iloc[t:t+5]['acc_spec'].tolist()\n",
        "      vec_gyro = ua_df.iloc[t:t+5]['gyro_spec'].tolist()\n",
        "      vec_acc_gyro = [vec_acc] + [vec_gyro]\n",
        "      instance = pd.DataFrame({'id': id, 'input_5_timesteps': [vec_acc_gyro], 'label': action})\n",
        "      loader_df = loader_df.append(instance, ignore_index=True)\n",
        "      id += 1"
      ],
      "execution_count": null,
      "outputs": []
    },
    {
      "cell_type": "code",
      "metadata": {
        "id": "j_nB8p59Sj0u"
      },
      "source": [
        "x = loader_df['input_5_timesteps']\n",
        "id = []\n",
        "label = []\n",
        "tensor_input = []\n",
        "\n",
        "for i in range(len(x)):\n",
        "  try:\n",
        "    x_tensor = torch.FloatTensor(x[i])\n",
        "    # print(x_tensor.shape)\n",
        "    if x_tensor.shape == torch.Size([2, 5, 13, 10]):\n",
        "      tensor_input.append(x_tensor)\n",
        "      label.append(loader_df['label'][i])\n",
        "      id.append(loader_df['id'][i])\n",
        "\n",
        "  except:\n",
        "    print('*********',i)"
      ],
      "execution_count": null,
      "outputs": []
    },
    {
      "cell_type": "code",
      "metadata": {
        "colab": {
          "base_uri": "https://localhost:8080/",
          "height": 265
        },
        "id": "nhSPsGia4Dmr",
        "outputId": "8910ce59-40df-4d16-c385-65ee8ddc097b"
      },
      "source": [
        "plt.hist(label, bins=8);"
      ],
      "execution_count": null,
      "outputs": [
        {
          "output_type": "display_data",
          "data": {
            "image/png": "[encoded data removed]",
            "text/plain": [
              "<Figure size 432x288 with 1 Axes>"
            ]
          },
          "metadata": {
            "tags": [],
            "needs_background": "light"
          }
        }
      ]
    },
    {
      "cell_type": "code",
      "metadata": {
        "colab": {
          "base_uri": "https://localhost:8080/"
        },
        "id": "90qeUVUzUNXm",
        "outputId": "7129c8e2-2701-4cab-d147-ddf704328746"
      },
      "source": [
        "len(id), len(label), len(tensor_input)"
      ],
      "execution_count": null,
      "outputs": [
        {
          "output_type": "execute_result",
          "data": {
            "text/plain": [
              "(1565, 1565, 1565)"
            ]
          },
          "metadata": {
            "tags": []
          },
          "execution_count": 23
        }
      ]
    },
    {
      "cell_type": "code",
      "metadata": {
        "colab": {
          "base_uri": "https://localhost:8080/"
        },
        "id": "VJg8S_A3hftx",
        "outputId": "bf01d5bf-f886-460c-b6ad-f56757d3f81d"
      },
      "source": [
        "np.unique(label, return_counts=True)"
      ],
      "execution_count": null,
      "outputs": [
        {
          "output_type": "execute_result",
          "data": {
            "text/plain": [
              "(array([0, 1, 2, 3, 4, 5, 6, 7]),\n",
              " array([197, 195, 196, 195, 196, 195, 196, 195]))"
            ]
          },
          "metadata": {
            "tags": []
          },
          "execution_count": 24
        }
      ]
    },
    {
      "cell_type": "markdown",
      "metadata": {
        "id": "f_AWN8Xb7evZ"
      },
      "source": [
        "### Dataloader"
      ]
    },
    {
      "cell_type": "code",
      "metadata": {
        "id": "-UUb314LPPbA"
      },
      "source": [
        "id = torch.tensor(id)\n",
        "label = torch.tensor(label)\n",
        "tensor_input = torch.stack(tensor_input)"
      ],
      "execution_count": null,
      "outputs": []
    },
    {
      "cell_type": "code",
      "metadata": {
        "colab": {
          "base_uri": "https://localhost:8080/"
        },
        "id": "QQqOkoa1TE6Q",
        "outputId": "82d12a4c-d1fd-4aa7-b509-708bec0e1e18"
      },
      "source": [
        "dataset = TensorDataset(id, tensor_input, label)\n",
        "train_size = int(0.80 * len(dataset))\n",
        "val_size = len(dataset) - train_size\n",
        "train_dataset, val_dataset = random_split(dataset, [train_size, val_size])\n",
        "\n",
        "print(f'{train_size} training samples')\n",
        "print(f'{val_size} validation samples')"
      ],
      "execution_count": null,
      "outputs": [
        {
          "output_type": "stream",
          "text": [
            "1252 training samples\n",
            "313 validation samples\n"
          ],
          "name": "stdout"
        }
      ]
    },
    {
      "cell_type": "code",
      "metadata": {
        "id": "zJy-zo_rBkRV"
      },
      "source": [
        "torch.manual_seed(0)\n",
        "batch_size = 1\n",
        "train_dataloader = DataLoader(\n",
        "            train_dataset,  \n",
        "            sampler = RandomSampler(train_dataset), \n",
        "            batch_size = batch_size\n",
        "            )\n",
        "validation_dataloader = DataLoader(\n",
        "            val_dataset, \n",
        "            sampler = SequentialSampler(val_dataset),\n",
        "            batch_size = batch_size\n",
        "            )"
      ],
      "execution_count": null,
      "outputs": []
    },
    {
      "cell_type": "markdown",
      "metadata": {
        "id": "vKDVuSzCxzYN"
      },
      "source": [
        "#Network"
      ]
    },
    {
      "cell_type": "code",
      "metadata": {
        "colab": {
          "base_uri": "https://localhost:8080/",
          "height": 282
        },
        "id": "Q1arvf42nrOH",
        "outputId": "53c5d32a-0629-49ba-dfe3-c530f36c6ede"
      },
      "source": [
        "instance = next(iter(train_dataloader))\n",
        "acc_inst = instance[1][0][0][0]\n",
        "gyro_inst = instance[1][0][1][0]\n",
        "plt.imshow(gyro_inst);\n",
        "acc_inst.shape"
      ],
      "execution_count": null,
      "outputs": [
        {
          "output_type": "execute_result",
          "data": {
            "text/plain": [
              "torch.Size([13, 10])"
            ]
          },
          "metadata": {
            "tags": []
          },
          "execution_count": 28
        },
        {
          "output_type": "display_data",
          "data": {
            "image/png": "[encoded data removed]",
            "text/plain": [
              "<Figure size 432x288 with 1 Axes>"
            ]
          },
          "metadata": {
            "tags": [],
            "needs_background": "light"
          }
        }
      ]
    },
    {
      "cell_type": "code",
      "metadata": {
        "colab": {
          "base_uri": "https://localhost:8080/",
          "height": 336
        },
        "id": "7JjUMfcjpnI-",
        "outputId": "95d5298c-e40e-421f-a79b-a4ea0672875d"
      },
      "source": [
        "fig, axes = plt.subplots(2, 5, sharex=True, sharey=False, figsize=(15,5))\n",
        "instance = next(iter(train_dataloader))\n",
        "for i in range(5):\n",
        "    axes[0,i].imshow(instance[1][0][0][i])\n",
        "    axes[0,i].set_title(f'acc timestep {i+1}')\n",
        "for i in range(5):\n",
        "    axes[1,i].imshow(instance[1][0][1][i])\n",
        "    axes[1,i].set_title(f'gyro timestep {i+1}')"
      ],
      "execution_count": null,
      "outputs": [
        {
          "output_type": "display_data",
          "data": {
            "image/png": "[encoded data removed]",
            "text/plain": [
              "<Figure size 1080x360 with 10 Axes>"
            ]
          },
          "metadata": {
            "tags": [],
            "needs_background": "light"
          }
        }
      ]
    },
    {
      "cell_type": "code",
      "metadata": {
        "id": "_zj4fiuJrHCg"
      },
      "source": [
        "torch.manual_seed(0)\n",
        "class CNN_acc(nn.Module):\n",
        "  def __init__(self):\n",
        "    super(CNN_acc, self).__init__()\n",
        "    self.conv1 = nn.Conv2d(1, 32, (1,3), padding='same')\n",
        "    self.conv2 = nn.Conv2d(32, 32, (1,3), padding='same')\n",
        "    self.conv3 = nn.Conv2d(32, 64, (1,3), padding='same')\n",
        "    self.conv4 = nn.Conv2d(64, 64, (1,3), padding='same')\n",
        "    self.fc = nn.Linear(2048, 128)\n",
        "    torch.nn.init.xavier_normal(self.fc.weight)\n",
        "    torch.nn.init.xavier_normal(self.conv1.weight)\n",
        "    torch.nn.init.xavier_normal(self.conv2.weight)\n",
        "    torch.nn.init.xavier_normal(self.conv3.weight)\n",
        "    torch.nn.init.xavier_normal(self.conv4.weight)\n",
        "\n",
        "\n",
        "  def forward(self, x):\n",
        "    # print('x.shape 1: ', x.shape)\n",
        "    x = F.relu(self.conv1(x))\n",
        "    # print('x.shape 2: ', x.shape)\n",
        "    x = F.relu(F.max_pool2d(self.conv2(x), (1,2)))\n",
        "    # print('x.shape 3: ', x.shape)\n",
        "    x = F.relu(self.conv3(x))\n",
        "    # print('x.shape 4: ', x.shape)\n",
        "    x = F.relu(F.max_pool2d(self.conv4(x), (1,2)))\n",
        "    # print('x.shape 5: ', x.shape)\n",
        "    x = torch.flatten(x, start_dim=1)\n",
        "    # print('x.shape 6: ', x.shape)\n",
        "    x = self.fc(x)\n",
        "    # print('x.shape 7: ', x.shape)\n",
        "\n",
        "    return x"
      ],
      "execution_count": null,
      "outputs": []
    },
    {
      "cell_type": "code",
      "metadata": {
        "id": "g5QdULoW3bgG"
      },
      "source": [
        "torch.manual_seed(0)\n",
        "class CNN_gyro(nn.Module):\n",
        "  def __init__(self):\n",
        "    super(CNN_gyro, self).__init__()\n",
        "    self.conv1 = nn.Conv2d(1, 32, (1,3), padding='same')\n",
        "    self.conv2 = nn.Conv2d(32, 32, (1,3), padding='same')\n",
        "    self.conv3 = nn.Conv2d(32, 64, (1,3), padding='same')\n",
        "    self.conv4 = nn.Conv2d(64, 64, (1,3), padding='same')\n",
        "    self.fc = nn.Linear(2048, 128)\n",
        "    torch.nn.init.xavier_normal(self.fc.weight)\n",
        "    torch.nn.init.xavier_normal(self.conv1.weight)\n",
        "    torch.nn.init.xavier_normal(self.conv2.weight)\n",
        "    torch.nn.init.xavier_normal(self.conv3.weight)\n",
        "    torch.nn.init.xavier_normal(self.conv4.weight)\n",
        "\n",
        "  def forward(self, x):\n",
        "    # print('x.shape 1: ', x.shape)\n",
        "    x = F.relu(self.conv1(x))\n",
        "    # print('x.shape 2: ', x.shape)\n",
        "    x = F.relu(F.max_pool2d(self.conv2(x), (1,2)))\n",
        "    # print('x.shape 3: ', x.shape)\n",
        "    x = F.relu(self.conv3(x))\n",
        "    # print('x.shape 4: ', x.shape)\n",
        "    x = F.relu(F.max_pool2d(self.conv4(x), (1,2)))\n",
        "    # print('x.shape 5: ', x.shape)\n",
        "    x = torch.flatten(x, start_dim=1)\n",
        "    # print('x.shape 6: ', x.shape)\n",
        "    x = self.fc(x)\n",
        "\n",
        "    return x"
      ],
      "execution_count": null,
      "outputs": []
    },
    {
      "cell_type": "code",
      "metadata": {
        "id": "OvIm2A3KuSai"
      },
      "source": [
        "class Attention2(nn.Module):\n",
        "  def __init__(self):\n",
        "    super(Attention2, self).__init__()\n",
        "    self.w = torch.rand(5, 1)\n",
        "    self.w = torch.nn.Parameter(torch.nn.init.xavier_uniform_(self.w))\n",
        "    self.b = torch.zeros(1)\n",
        "    self.b = torch.nn.Parameter(self.b)\n",
        "    self.v = torch.rand(64, 1)\n",
        "    self.v = torch.nn.Parameter(torch.nn.init.xavier_uniform_(self.v))\n",
        "    self.new_linear = torch.nn.Linear(64, 64)\n",
        "\n",
        "  def forward(self, x):\n",
        "    # print('x.shape: ', x.shape)\n",
        "    temp_o = self.new_linear(torch.squeeze(x, 1))\n",
        "    # print('temp_o.shape: ', temp_o.shape)\n",
        "    o = torch.tanh(temp_o)\n",
        "    # print('temp_o.shape: ', temp_o.shape)\n",
        "    temp_w = o @ self.v\n",
        "    # print('temp_w.shape: ', temp_w.shape)\n",
        "    w = F.softmax(temp_w)\n",
        "    # print('w.shape: ', w.shape)\n",
        "    context = w.T @ temp_o\n",
        "    # print('context.shape: ',context.shape)\n",
        "    \n",
        "    return context"
      ],
      "execution_count": null,
      "outputs": []
    },
    {
      "cell_type": "code",
      "metadata": {
        "id": "K6VaEypb34gg"
      },
      "source": [
        "class Attnsense(nn.Module):\n",
        "  def __init__(self):\n",
        "    super(Attnsense, self).__init__()\n",
        "    self.conv_acc = CNN_acc()\n",
        "    self.conv_gyro = CNN_gyro()\n",
        "    self.attn1 = torch.nn.MultiheadAttention(128, 1, batch_first=True)\n",
        "    self.attn2 = Attention2()\n",
        "    self.gru = nn.GRU(128, 64, num_layers=2)\n",
        "    self.fc_gru = nn.Linear(64, 8)\n",
        "\n",
        "\n",
        "  def forward(self, x):\n",
        "    # print(x[0][0].shape)\n",
        "    acc_input = x[0][0].reshape(5,1,1,130)\n",
        "    gyro_input = x[0][1].reshape(5,1,1,130)\n",
        "    conv_acc_out = self.conv_acc.forward(acc_input)\n",
        "    conv_gyro_out = self.conv_gyro.forward(gyro_input)\n",
        "    # print('conv_acc_out: ', conv_acc_out.shape)\n",
        "    zipped = torch.stack([conv_acc_out, conv_gyro_out], dim=1)\n",
        "    # print('zipped.shape: ', zipped.shape)\n",
        "    attn1_out = self.attn1(zipped, zipped, zipped)[0][:,0,:]\n",
        "    # print('attn1_out.shape: ', attn1_out.shape)\n",
        "    out_gru = self.gru(attn1_out.unsqueeze(1))[0]\n",
        "    # print('out_gru: ', out_gru.shape)\n",
        "    out_attn2 = self.attn2(out_gru)\n",
        "    # print('out_attn2: ', out_attn2.shape)\n",
        "    x = self.fc_gru(out_attn2)\n",
        "    # # print('x.shape: ', x.shape)\n",
        "    x = F.softmax(x, dim=1)\n",
        "\n",
        "    return x"
      ],
      "execution_count": null,
      "outputs": []
    },
    {
      "cell_type": "code",
      "metadata": {
        "id": "AlOMKN6LIaWX"
      },
      "source": [
        "def loss_calc(net, loader, criterion):\n",
        "  with torch.no_grad():\n",
        "    tot_loss = 0\n",
        "    for i, data in enumerate(loader, 0):\n",
        "      _, inputs, labels = data\n",
        "      inputs = inputs.to(device)\n",
        "      labels = labels.to(device)\n",
        "      outputs = net(inputs)\n",
        "      loss = criterion(outputs, labels)\n",
        "      tot_loss += loss.item()\n",
        "      \n",
        "  return tot_loss / (i + 1)"
      ],
      "execution_count": null,
      "outputs": []
    },
    {
      "cell_type": "code",
      "metadata": {
        "id": "TYvqEhED_Rn-"
      },
      "source": [
        "def save_vectors(vectors, name):\n",
        "  a_file = open(f'{name}.pkl', 'wb')\n",
        "  pickle.dump(vectors, a_file)\n",
        "  a_file.close()"
      ],
      "execution_count": null,
      "outputs": []
    },
    {
      "cell_type": "markdown",
      "metadata": {
        "id": "USfSBA9z8lQq"
      },
      "source": [
        "#### Training"
      ]
    },
    {
      "cell_type": "code",
      "metadata": {
        "id": "Xns1_oOBBE4v"
      },
      "source": [
        "torch.manual_seed(0)\n",
        "\n",
        "def train(net, train_loader, test_loader, epochs):\n",
        "    lowest_loss = 0\n",
        "    criterion = nn.CrossEntropyLoss()\n",
        "    optimizer = torch.optim.SGD(net.parameters(), lr = 0.0001, momentum=0.9) # best learning rate was 0.00005\n",
        "    start_time = timeit.default_timer()\n",
        "    train_loss = {}\n",
        "    test_loss = {}\n",
        "    for epoch in range(epochs):\n",
        "        running_loss = 0.0\n",
        "        print(epoch)\n",
        "        for i, data in enumerate(train_loader, 0):\n",
        "            _, inputs, labels = data\n",
        "            inputs = inputs.to(device)\n",
        "            labels = labels.to(device) \n",
        "\n",
        "            # zero the parameter gradients\n",
        "            optimizer.zero_grad()\n",
        "\n",
        "            # forward + backward + optimize\n",
        "            outputs = net(inputs)\n",
        "            \n",
        "            loss = criterion(outputs, labels)\n",
        "            loss.backward()\n",
        "            optimizer.step()\n",
        "\n",
        "            # print statistics\n",
        "            running_loss += loss.item()\n",
        "            if (i + 1) % 100 == 0:    \n",
        "                print('[%d, %5d] loss: %.3f' %\n",
        "                      (epoch + 1, i + 1, running_loss / 100))\n",
        "                running_loss = 0.0\n",
        "        train_loss[epoch + 1] = loss_calc(net, train_loader, criterion)\n",
        "\n",
        "        test_loss[epoch + 1] = loss_calc(net, test_loader, criterion) \n",
        "        print(f'Epoch = {epoch + 1}, train loss = {train_loss[epoch + 1]}')\n",
        "        print(f'Epoch = {epoch + 1}, test loss = {test_loss[epoch + 1]}')\n",
        "        if test_loss[epoch + 1] < 1.7 and lowest_loss == 0:\n",
        "          lowest_loss = test_loss[epoch + 1]\n",
        "          torch.save(net.state_dict(), '/content/drive/MyDrive/Advanced ML final project/model_with_attentions10')\n",
        "          save_vectors(train_loss, '/content/drive/MyDrive/Advanced ML final project/train_loss_attention10')\n",
        "          save_vectors(test_loss, '/content/drive/MyDrive/Advanced ML final project/test_loss_attention10')\n",
        "        if test_loss[epoch + 1] < lowest_loss:\n",
        "          lowest_loss = test_loss[epoch + 1]\n",
        "          torch.save(net.state_dict(), '/content/drive/MyDrive/Advanced ML final project/model_with_attentions10')\n",
        "          save_vectors(train_loss, '/content/drive/MyDrive/Advanced ML final project/train_loss_attention10')\n",
        "          save_vectors(test_loss, '/content/drive/MyDrive/Advanced ML final project/test_loss_attention10')\n",
        "    end_time = timeit.default_timer()\n",
        "\n",
        "    print(f'Finish Training + Testing after: {end_time - start_time}')\n",
        "    return train_loss, test_loss"
      ],
      "execution_count": null,
      "outputs": []
    },
    {
      "cell_type": "code",
      "metadata": {
        "id": "rYq7AMV6HcUf",
        "colab": {
          "base_uri": "https://localhost:8080/"
        },
        "outputId": "20c8a353-bc9c-4043-8ac7-7e2dd769e09d"
      },
      "source": [
        "net = Attnsense().to(device)"
      ],
      "execution_count": null,
      "outputs": [
        {
          "output_type": "stream",
          "text": [
            "/usr/local/lib/python3.7/dist-packages/ipykernel_launcher.py:10: UserWarning: nn.init.xavier_normal is now deprecated in favor of nn.init.xavier_normal_.\n",
            "  # Remove the CWD from sys.path while we load stuff.\n",
            "/usr/local/lib/python3.7/dist-packages/ipykernel_launcher.py:11: UserWarning: nn.init.xavier_normal is now deprecated in favor of nn.init.xavier_normal_.\n",
            "  # This is added back by InteractiveShellApp.init_path()\n",
            "/usr/local/lib/python3.7/dist-packages/ipykernel_launcher.py:12: UserWarning: nn.init.xavier_normal is now deprecated in favor of nn.init.xavier_normal_.\n",
            "  if sys.path[0] == '':\n",
            "/usr/local/lib/python3.7/dist-packages/ipykernel_launcher.py:13: UserWarning: nn.init.xavier_normal is now deprecated in favor of nn.init.xavier_normal_.\n",
            "  del sys.path[0]\n",
            "/usr/local/lib/python3.7/dist-packages/ipykernel_launcher.py:14: UserWarning: nn.init.xavier_normal is now deprecated in favor of nn.init.xavier_normal_.\n",
            "  \n"
          ],
          "name": "stderr"
        }
      ]
    },
    {
      "cell_type": "code",
      "metadata": {
        "id": "nLdHEyidBmJK"
      },
      "source": [
        "train_loss, test_loss = train(net, train_dataloader, validation_dataloader, 300)"
      ],
      "execution_count": null,
      "outputs": []
    },
    {
      "cell_type": "code",
      "metadata": {
        "colab": {
          "background_save": true
        },
        "id": "geryUMo1B6s5",
        "outputId": "e882457b-94bb-44a3-9d3c-5e8d1888677f"
      },
      "source": [
        "net = Attnsense()\n",
        "print(net.forward)"
      ],
      "execution_count": null,
      "outputs": [
        {
          "output_type": "stream",
          "text": [
            "<bound method Attnsense.forward of Attnsense(\n",
            "  (conv_acc): CNN_acc(\n",
            "    (conv1): Conv2d(1, 32, kernel_size=(1, 3), stride=(1, 1), padding=same)\n",
            "    (conv2): Conv2d(32, 32, kernel_size=(1, 3), stride=(1, 1), padding=same)\n",
            "    (conv3): Conv2d(32, 64, kernel_size=(1, 3), stride=(1, 1), padding=same)\n",
            "    (conv4): Conv2d(64, 64, kernel_size=(1, 3), stride=(1, 1), padding=same)\n",
            "    (fc): Linear(in_features=2048, out_features=128, bias=True)\n",
            "  )\n",
            "  (conv_gyro): CNN_gyro(\n",
            "    (conv1): Conv2d(1, 32, kernel_size=(1, 3), stride=(1, 1), padding=same)\n",
            "    (conv2): Conv2d(32, 32, kernel_size=(1, 3), stride=(1, 1), padding=same)\n",
            "    (conv3): Conv2d(32, 64, kernel_size=(1, 3), stride=(1, 1), padding=same)\n",
            "    (conv4): Conv2d(64, 64, kernel_size=(1, 3), stride=(1, 1), padding=same)\n",
            "    (fc): Linear(in_features=2048, out_features=128, bias=True)\n",
            "  )\n",
            "  (attn1): MultiheadAttention(\n",
            "    (out_proj): NonDynamicallyQuantizableLinear(in_features=128, out_features=128, bias=True)\n",
            "  )\n",
            "  (gru): GRU(128, 64, num_layers=2)\n",
            "  (fc_gru): Linear(in_features=64, out_features=8, bias=True)\n",
            ")>\n"
          ],
          "name": "stdout"
        }
      ]
    },
    {
      "cell_type": "markdown",
      "metadata": {
        "id": "WvmFSu6D-Y6D"
      },
      "source": [
        "### Evaluation"
      ]
    },
    {
      "cell_type": "code",
      "metadata": {
        "id": "oMX-B7N8QOmz"
      },
      "source": [
        "def load_vectors(path):\n",
        "    t = open(path, 'rb')\n",
        "    output = pickle.load(t)\n",
        "    t.close()\n",
        "    \n",
        "    return output"
      ],
      "execution_count": null,
      "outputs": []
    },
    {
      "cell_type": "code",
      "metadata": {
        "id": "Hrmng10FQP36"
      },
      "source": [
        "train_loss = load_vectors('/content/drive/MyDrive/Advanced ML final project/train_loss_attention6.pkl')\n",
        "test_loss = load_vectors('/content/drive/MyDrive/Advanced ML final project/test_loss_attention6.pkl')"
      ],
      "execution_count": null,
      "outputs": []
    },
    {
      "cell_type": "code",
      "metadata": {
        "colab": {
          "base_uri": "https://localhost:8080/"
        },
        "id": "SsTeG6ulR4iu",
        "outputId": "5df7ddab-2e6e-4799-d23b-a8ce5103c810"
      },
      "source": [
        "min(test_loss.values())"
      ],
      "execution_count": null,
      "outputs": [
        {
          "output_type": "execute_result",
          "data": {
            "text/plain": [
              "1.442440723458799"
            ]
          },
          "metadata": {
            "tags": []
          },
          "execution_count": 47
        }
      ]
    },
    {
      "cell_type": "code",
      "metadata": {
        "id": "M3NLcXeOvcrC"
      },
      "source": [
        "def mean_k(dict_values, k):\n",
        "  val = np.array(list(dict_values))\n",
        "  out = []\n",
        "  for i in range(val.shape[0] - k):\n",
        "    out.append(val[i:i+k].mean())\n",
        "  return out"
      ],
      "execution_count": null,
      "outputs": []
    },
    {
      "cell_type": "code",
      "metadata": {
        "id": "8_B-tdnUxLqz",
        "colab": {
          "base_uri": "https://localhost:8080/",
          "height": 523
        },
        "outputId": "b80edc28-cb6e-4e84-ec26-94f39add6163"
      },
      "source": [
        "plt.figure(figsize = (8, 8))\n",
        "plt.plot(list(train_loss.keys()), list(train_loss.values()), label = 'train')\n",
        "plt.plot(list(test_loss.keys()), list(test_loss.values()), label = 'test')\n",
        "plt.plot(mean_k(train_loss.values(), 20), label = 'mean 20', linewidth=3, linestyle='--')\n",
        "plt.xlabel('Epoch Number', fontsize = 20)\n",
        "plt.ylabel('Loss', fontsize = 20)\n",
        "plt.legend(fontsize = 20)"
      ],
      "execution_count": null,
      "outputs": [
        {
          "output_type": "execute_result",
          "data": {
            "text/plain": [
              "<matplotlib.legend.Legend at 0x7f2073c879d0>"
            ]
          },
          "metadata": {
            "tags": []
          },
          "execution_count": 49
        },
        {
          "output_type": "display_data",
          "data": {
            "image/png": "[encoded data removed]",
            "text/plain": [
              "<Figure size 576x576 with 1 Axes>"
            ]
          },
          "metadata": {
            "tags": [],
            "needs_background": "light"
          }
        }
      ]
    },
    {
      "cell_type": "code",
      "metadata": {
        "id": "HGnFfo_4c_9p",
        "colab": {
          "base_uri": "https://localhost:8080/"
        },
        "outputId": "de7e5c8e-3042-48b7-8c79-3419c0eb3deb"
      },
      "source": [
        "model = Attnsense()\n",
        "model.load_state_dict(torch.load('/content/drive/MyDrive/Advanced ML final project/model_with_attentions6'))"
      ],
      "execution_count": null,
      "outputs": [
        {
          "output_type": "stream",
          "text": [
            "/usr/local/lib/python3.7/dist-packages/ipykernel_launcher.py:10: UserWarning: nn.init.xavier_normal is now deprecated in favor of nn.init.xavier_normal_.\n",
            "  # Remove the CWD from sys.path while we load stuff.\n",
            "/usr/local/lib/python3.7/dist-packages/ipykernel_launcher.py:11: UserWarning: nn.init.xavier_normal is now deprecated in favor of nn.init.xavier_normal_.\n",
            "  # This is added back by InteractiveShellApp.init_path()\n",
            "/usr/local/lib/python3.7/dist-packages/ipykernel_launcher.py:12: UserWarning: nn.init.xavier_normal is now deprecated in favor of nn.init.xavier_normal_.\n",
            "  if sys.path[0] == '':\n",
            "/usr/local/lib/python3.7/dist-packages/ipykernel_launcher.py:13: UserWarning: nn.init.xavier_normal is now deprecated in favor of nn.init.xavier_normal_.\n",
            "  del sys.path[0]\n",
            "/usr/local/lib/python3.7/dist-packages/ipykernel_launcher.py:14: UserWarning: nn.init.xavier_normal is now deprecated in favor of nn.init.xavier_normal_.\n",
            "  \n"
          ],
          "name": "stderr"
        },
        {
          "output_type": "execute_result",
          "data": {
            "text/plain": [
              "<All keys matched successfully>"
            ]
          },
          "metadata": {
            "tags": []
          },
          "execution_count": 50
        }
      ]
    },
    {
      "cell_type": "code",
      "metadata": {
        "id": "EjN2bQnMz0d-"
      },
      "source": [
        "def acc(net, loader):\n",
        "    correct = 0\n",
        "    total = 0\n",
        "    all_preds = torch.tensor([])\n",
        "    all_lab = torch.tensor([])\n",
        "    with torch.no_grad():\n",
        "        for data in loader:\n",
        "            _, inputs, labels = data\n",
        "            inputs = inputs\n",
        "            labels = labels\n",
        "            outputs = net(inputs).reshape(1,-1)\n",
        "            _, predicted = torch.max(outputs.data, 1)\n",
        "            total += labels.size(0)\n",
        "            correct += (predicted == labels).sum().item()\n",
        "            all_preds = torch.cat((all_preds, predicted) ,dim=0)\n",
        "            all_lab = torch.cat((all_lab, labels) ,dim=0)\n",
        "    print('Accuracy of the network on the test images: %d %%' % (100 * correct / total))\n",
        "    return all_lab, all_preds"
      ],
      "execution_count": null,
      "outputs": []
    },
    {
      "cell_type": "code",
      "metadata": {
        "id": "OEg4D53Kz9rM",
        "colab": {
          "base_uri": "https://localhost:8080/"
        },
        "outputId": "3f51589a-2103-4fd5-f975-add35658e0c9"
      },
      "source": [
        "y_true, y_pred = acc(model, validation_dataloader)"
      ],
      "execution_count": null,
      "outputs": [
        {
          "output_type": "stream",
          "text": [
            "/usr/local/lib/python3.7/dist-packages/ipykernel_launcher.py:20: UserWarning: Implicit dimension choice for softmax has been deprecated. Change the call to include dim=X as an argument.\n"
          ],
          "name": "stderr"
        },
        {
          "output_type": "stream",
          "text": [
            "Accuracy of the network on the test images: 84 %\n"
          ],
          "name": "stdout"
        }
      ]
    },
    {
      "cell_type": "code",
      "metadata": {
        "colab": {
          "base_uri": "https://localhost:8080/",
          "height": 347
        },
        "id": "Oi6xax5XEThp",
        "outputId": "eccfd9d7-b4a0-48cb-f68c-6c0cb65671f9"
      },
      "source": [
        "activities = ['Ironing', 'Lying', 'Sitting', 'Standing', 'Walking', 'Running', 'Cycling', 'Nordic Walking']\n",
        "sn.heatmap(pd.DataFrame(confusion_matrix(y_true, y_pred), columns=activities, index=activities), annot=True)"
      ],
      "execution_count": null,
      "outputs": [
        {
          "output_type": "execute_result",
          "data": {
            "text/plain": [
              "<matplotlib.axes._subplots.AxesSubplot at 0x7f20744930d0>"
            ]
          },
          "metadata": {
            "tags": []
          },
          "execution_count": 56
        },
        {
          "output_type": "display_data",
          "data": {
            "image/png": "[encoded data removed]",
            "text/plain": [
              "<Figure size 432x288 with 2 Axes>"
            ]
          },
          "metadata": {
            "tags": [],
            "needs_background": "light"
          }
        }
      ]
    }
  ]
}